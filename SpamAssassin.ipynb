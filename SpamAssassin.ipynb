{
 "cells": [
  {
   "cell_type": "code",
   "execution_count": 1,
   "id": "acd9da47",
   "metadata": {},
   "outputs": [],
   "source": [
    "import pandas as pd\n",
    "import numpy as np\n",
    "import matplotlib.pyplot as plt\n",
    "import os"
   ]
  },
  {
   "cell_type": "code",
   "execution_count": 2,
   "id": "3b9300ac",
   "metadata": {},
   "outputs": [],
   "source": [
    "# Function to format the emails from a directory into a dataframe.\n",
    "def email2df(dir_path, label):\n",
    "    email_list = []\n",
    "    files = os.listdir(dir_path)\n",
    "    \n",
    "    for filename in files:\n",
    "        # Get Text inside file        \n",
    "        file_path = dir_path + '/' + filename\n",
    "        if filename and filename != 'cmds':\n",
    "            f = open(file_path,'r', errors=\"ignore\")\n",
    "            text_file = f.read()\n",
    "            f.close()\n",
    "            \n",
    "        # Append [Filename (Id), Text, Label] to dataframe\n",
    "        if filename and text_file:\n",
    "            email_list.append([filename, text_file, label])\n",
    "            \n",
    "    df = pd.DataFrame(email_list, columns=['id', 'text', 'label'])\n",
    "    return df"
   ]
  },
  {
   "cell_type": "code",
   "execution_count": 3,
   "id": "82a8f210",
   "metadata": {},
   "outputs": [],
   "source": [
    "# We make a data frame for the ham emails with label 0\n",
    "df1 = email2df('easy_ham', 0) \n",
    "df2 = email2df('easy_ham_2', 0)\n",
    "df3 = email2df('hard_ham', 0)\n",
    "\n",
    "# We make a data frame for the spam emails with label 1\n",
    "df4 = email2df('spam', 1)\n",
    "df5 = email2df('spam_2', 1)"
   ]
  },
  {
   "cell_type": "code",
   "execution_count": 4,
   "id": "d4ddea89",
   "metadata": {},
   "outputs": [],
   "source": [
    "df = pd.concat([df1, df2, df3, df4, df5],names=['id', 'text', 'label'])"
   ]
  },
  {
   "cell_type": "code",
   "execution_count": 5,
   "id": "ee8d403c",
   "metadata": {},
   "outputs": [
    {
     "data": {
      "text/plain": [
       "(9354, 3)"
      ]
     },
     "execution_count": 5,
     "metadata": {},
     "output_type": "execute_result"
    }
   ],
   "source": [
    "df.shape"
   ]
  },
  {
   "cell_type": "code",
   "execution_count": 6,
   "id": "d1dfa6e7",
   "metadata": {},
   "outputs": [
    {
     "data": {
      "text/html": [
       "<div>\n",
       "<style scoped>\n",
       "    .dataframe tbody tr th:only-of-type {\n",
       "        vertical-align: middle;\n",
       "    }\n",
       "\n",
       "    .dataframe tbody tr th {\n",
       "        vertical-align: top;\n",
       "    }\n",
       "\n",
       "    .dataframe thead th {\n",
       "        text-align: right;\n",
       "    }\n",
       "</style>\n",
       "<table border=\"1\" class=\"dataframe\">\n",
       "  <thead>\n",
       "    <tr style=\"text-align: right;\">\n",
       "      <th></th>\n",
       "      <th>id</th>\n",
       "      <th>text</th>\n",
       "      <th>label</th>\n",
       "    </tr>\n",
       "  </thead>\n",
       "  <tbody>\n",
       "    <tr>\n",
       "      <th>0</th>\n",
       "      <td>00001.7c53336b37003a9286aba55d2945844c</td>\n",
       "      <td>From exmh-workers-admin@redhat.com  Thu Aug 22...</td>\n",
       "      <td>0</td>\n",
       "    </tr>\n",
       "    <tr>\n",
       "      <th>1</th>\n",
       "      <td>00002.9c4069e25e1ef370c078db7ee85ff9ac</td>\n",
       "      <td>From Steve_Burt@cursor-system.com  Thu Aug 22 ...</td>\n",
       "      <td>0</td>\n",
       "    </tr>\n",
       "    <tr>\n",
       "      <th>2</th>\n",
       "      <td>00003.860e3c3cee1b42ead714c5c874fe25f7</td>\n",
       "      <td>From timc@2ubh.com  Thu Aug 22 13:52:59 2002\\n...</td>\n",
       "      <td>0</td>\n",
       "    </tr>\n",
       "    <tr>\n",
       "      <th>3</th>\n",
       "      <td>00004.864220c5b6930b209cc287c361c99af1</td>\n",
       "      <td>From irregulars-admin@tb.tf  Thu Aug 22 14:23:...</td>\n",
       "      <td>0</td>\n",
       "    </tr>\n",
       "    <tr>\n",
       "      <th>4</th>\n",
       "      <td>00005.bf27cdeaf0b8c4647ecd61b1d09da613</td>\n",
       "      <td>From Stewart.Smith@ee.ed.ac.uk  Thu Aug 22 14:...</td>\n",
       "      <td>0</td>\n",
       "    </tr>\n",
       "  </tbody>\n",
       "</table>\n",
       "</div>"
      ],
      "text/plain": [
       "                                       id  \\\n",
       "0  00001.7c53336b37003a9286aba55d2945844c   \n",
       "1  00002.9c4069e25e1ef370c078db7ee85ff9ac   \n",
       "2  00003.860e3c3cee1b42ead714c5c874fe25f7   \n",
       "3  00004.864220c5b6930b209cc287c361c99af1   \n",
       "4  00005.bf27cdeaf0b8c4647ecd61b1d09da613   \n",
       "\n",
       "                                                text  label  \n",
       "0  From exmh-workers-admin@redhat.com  Thu Aug 22...      0  \n",
       "1  From Steve_Burt@cursor-system.com  Thu Aug 22 ...      0  \n",
       "2  From timc@2ubh.com  Thu Aug 22 13:52:59 2002\\n...      0  \n",
       "3  From irregulars-admin@tb.tf  Thu Aug 22 14:23:...      0  \n",
       "4  From Stewart.Smith@ee.ed.ac.uk  Thu Aug 22 14:...      0  "
      ]
     },
     "execution_count": 6,
     "metadata": {},
     "output_type": "execute_result"
    }
   ],
   "source": [
    "df.head()"
   ]
  },
  {
   "cell_type": "code",
   "execution_count": 7,
   "id": "8b8ca9eb",
   "metadata": {},
   "outputs": [
    {
     "data": {
      "text/plain": [
       "0    0.743425\n",
       "1    0.256575\n",
       "Name: label, dtype: float64"
      ]
     },
     "execution_count": 7,
     "metadata": {},
     "output_type": "execute_result"
    }
   ],
   "source": [
    "df['label'].value_counts(normalize=True)"
   ]
  },
  {
   "cell_type": "code",
   "execution_count": 8,
   "id": "2571ed11",
   "metadata": {},
   "outputs": [
    {
     "data": {
      "text/plain": [
       "4"
      ]
     },
     "execution_count": 8,
     "metadata": {},
     "output_type": "execute_result"
    }
   ],
   "source": [
    "df['id'].duplicated().sum()"
   ]
  },
  {
   "cell_type": "code",
   "execution_count": 9,
   "id": "cabc28ed",
   "metadata": {},
   "outputs": [
    {
     "data": {
      "text/html": [
       "<div>\n",
       "<style scoped>\n",
       "    .dataframe tbody tr th:only-of-type {\n",
       "        vertical-align: middle;\n",
       "    }\n",
       "\n",
       "    .dataframe tbody tr th {\n",
       "        vertical-align: top;\n",
       "    }\n",
       "\n",
       "    .dataframe thead th {\n",
       "        text-align: right;\n",
       "    }\n",
       "</style>\n",
       "<table border=\"1\" class=\"dataframe\">\n",
       "  <thead>\n",
       "    <tr style=\"text-align: right;\">\n",
       "      <th></th>\n",
       "      <th>id</th>\n",
       "      <th>text</th>\n",
       "      <th>label</th>\n",
       "    </tr>\n",
       "  </thead>\n",
       "  <tbody>\n",
       "    <tr>\n",
       "      <th>1400</th>\n",
       "      <td>cmds</td>\n",
       "      <td>From ilug-admin@linux.ie  Wed Dec  4 11:52:36 ...</td>\n",
       "      <td>0</td>\n",
       "    </tr>\n",
       "    <tr>\n",
       "      <th>500</th>\n",
       "      <td>cmds</td>\n",
       "      <td>Return-Path: &lt;test-admin@lists.sourceforge.net...</td>\n",
       "      <td>0</td>\n",
       "    </tr>\n",
       "    <tr>\n",
       "      <th>1001</th>\n",
       "      <td>cmds</td>\n",
       "      <td>From evtwqmigru@datcon.co.uk  Tue Oct  8 11:02...</td>\n",
       "      <td>1</td>\n",
       "    </tr>\n",
       "    <tr>\n",
       "      <th>1397</th>\n",
       "      <td>cmds</td>\n",
       "      <td>From ilug-admin@linux.ie  Wed Dec  4 11:52:36 ...</td>\n",
       "      <td>1</td>\n",
       "    </tr>\n",
       "  </tbody>\n",
       "</table>\n",
       "</div>"
      ],
      "text/plain": [
       "        id                                               text  label\n",
       "1400  cmds  From ilug-admin@linux.ie  Wed Dec  4 11:52:36 ...      0\n",
       "500   cmds  Return-Path: <test-admin@lists.sourceforge.net...      0\n",
       "1001  cmds  From evtwqmigru@datcon.co.uk  Tue Oct  8 11:02...      1\n",
       "1397  cmds  From ilug-admin@linux.ie  Wed Dec  4 11:52:36 ...      1"
      ]
     },
     "execution_count": 9,
     "metadata": {},
     "output_type": "execute_result"
    }
   ],
   "source": [
    "df[df['id'].duplicated()]"
   ]
  },
  {
   "cell_type": "code",
   "execution_count": 10,
   "id": "7939bc01",
   "metadata": {},
   "outputs": [
    {
     "name": "stdout",
     "output_type": "stream",
     "text": [
      "0\n",
      "False\n"
     ]
    }
   ],
   "source": [
    "# Some of the cmds emails got through, so we eliminate them\n",
    "df.drop_duplicates(subset='id', inplace=True)\n",
    "print(df['id'].duplicated().sum())\n",
    "\n",
    "#Check for empty values\n",
    "print(df.isnull().values.any())"
   ]
  },
  {
   "cell_type": "code",
   "execution_count": 11,
   "id": "2eef555c",
   "metadata": {},
   "outputs": [
    {
     "data": {
      "text/plain": [
       "(9350, 3)"
      ]
     },
     "execution_count": 11,
     "metadata": {},
     "output_type": "execute_result"
    }
   ],
   "source": [
    "df.shape"
   ]
  },
  {
   "cell_type": "code",
   "execution_count": 12,
   "id": "bc394fc2",
   "metadata": {},
   "outputs": [],
   "source": [
    "from sklearn.utils import shuffle\n",
    "df = shuffle(df)\n",
    "df.reset_index(inplace=True, drop=True)"
   ]
  },
  {
   "cell_type": "code",
   "execution_count": 13,
   "id": "51f1020e",
   "metadata": {},
   "outputs": [
    {
     "data": {
      "text/html": [
       "<div>\n",
       "<style scoped>\n",
       "    .dataframe tbody tr th:only-of-type {\n",
       "        vertical-align: middle;\n",
       "    }\n",
       "\n",
       "    .dataframe tbody tr th {\n",
       "        vertical-align: top;\n",
       "    }\n",
       "\n",
       "    .dataframe thead th {\n",
       "        text-align: right;\n",
       "    }\n",
       "</style>\n",
       "<table border=\"1\" class=\"dataframe\">\n",
       "  <thead>\n",
       "    <tr style=\"text-align: right;\">\n",
       "      <th></th>\n",
       "      <th>id</th>\n",
       "      <th>text</th>\n",
       "      <th>label</th>\n",
       "    </tr>\n",
       "  </thead>\n",
       "  <tbody>\n",
       "    <tr>\n",
       "      <th>0</th>\n",
       "      <td>01589.be65e620bca0f1734cd13c71aea78d4c</td>\n",
       "      <td>From razor-users-admin@lists.sourceforge.net  ...</td>\n",
       "      <td>0</td>\n",
       "    </tr>\n",
       "    <tr>\n",
       "      <th>1</th>\n",
       "      <td>0113.ff113297f0ed07536d288c7b2193a8ec</td>\n",
       "      <td>From 2940catv77@alltel.net  Tue Aug 27 01:34:0...</td>\n",
       "      <td>1</td>\n",
       "    </tr>\n",
       "    <tr>\n",
       "      <th>2</th>\n",
       "      <td>0162.261bb4a36b195f96fcc7da4038b898a3</td>\n",
       "      <td>From Kristian2025161@lancsmail.com  Thu Aug 29...</td>\n",
       "      <td>1</td>\n",
       "    </tr>\n",
       "    <tr>\n",
       "      <th>3</th>\n",
       "      <td>00260.49cb520f5d726da6f1ec32d0e4d2e38f</td>\n",
       "      <td>From fddgl@data.net.mx  Mon Jun 24 17:09:22 20...</td>\n",
       "      <td>1</td>\n",
       "    </tr>\n",
       "    <tr>\n",
       "      <th>4</th>\n",
       "      <td>2441.8b6ac53af9cab970afa13ff99ecaf8da</td>\n",
       "      <td>From rssfeeds@jmason.org  Mon Oct  7 12:05:32 ...</td>\n",
       "      <td>0</td>\n",
       "    </tr>\n",
       "  </tbody>\n",
       "</table>\n",
       "</div>"
      ],
      "text/plain": [
       "                                       id  \\\n",
       "0  01589.be65e620bca0f1734cd13c71aea78d4c   \n",
       "1   0113.ff113297f0ed07536d288c7b2193a8ec   \n",
       "2   0162.261bb4a36b195f96fcc7da4038b898a3   \n",
       "3  00260.49cb520f5d726da6f1ec32d0e4d2e38f   \n",
       "4   2441.8b6ac53af9cab970afa13ff99ecaf8da   \n",
       "\n",
       "                                                text  label  \n",
       "0  From razor-users-admin@lists.sourceforge.net  ...      0  \n",
       "1  From 2940catv77@alltel.net  Tue Aug 27 01:34:0...      1  \n",
       "2  From Kristian2025161@lancsmail.com  Thu Aug 29...      1  \n",
       "3  From fddgl@data.net.mx  Mon Jun 24 17:09:22 20...      1  \n",
       "4  From rssfeeds@jmason.org  Mon Oct  7 12:05:32 ...      0  "
      ]
     },
     "execution_count": 13,
     "metadata": {},
     "output_type": "execute_result"
    }
   ],
   "source": [
    "df.head()"
   ]
  },
  {
   "cell_type": "markdown",
   "id": "b4567bd4",
   "metadata": {},
   "source": [
    "## First test: Without removing email headers"
   ]
  },
  {
   "cell_type": "code",
   "execution_count": 75,
   "id": "f54f0c4e",
   "metadata": {},
   "outputs": [],
   "source": [
    "from sklearn.base import BaseEstimator, TransformerMixin\n",
    "import re\n",
    "\n",
    "class CleanTextTransformer(BaseEstimator, TransformerMixin):\n",
    "    \"\"\"\n",
    "    A custom Transformer which makes the text in the dataframe lowercase, \n",
    "    removes punctuation and numbers.\n",
    "    \"\"\"\n",
    "    def __init__(self, text_split=True):\n",
    "        self.text_split = text_split\n",
    "        \n",
    "    def fit(self, X, y=None):\n",
    "        return self  # The fit method typically does nothing for transformers\n",
    "    \n",
    "    def transform(self, X):\n",
    "        pattern = r'[0-9\\W_]'\n",
    "        X_transformed = X.copy()\n",
    "        X_transformed = X_transformed.apply(lambda text: text.lower())\n",
    "        X_transformed= X_transformed.apply(lambda text: re.sub(pattern, ' ', text))\n",
    "        if self.text_split:\n",
    "            print(type(X_transformed))\n",
    "            print(X_transformed)\n",
    "            X_transformed = X_transformed.apply(lambda text: text.split())\n",
    "            print(type(X_transformed))\n",
    "            print(X_transformed)\n",
    "        return X_transformed"
   ]
  },
  {
   "cell_type": "code",
   "execution_count": 79,
   "id": "ff7300ff",
   "metadata": {},
   "outputs": [],
   "source": [
    "from sklearn.model_selection import train_test_split\n",
    "\n",
    "X = df['text']\n",
    "y = df['label']\n",
    "\n",
    "X_train, X_test, y_train, y_test = train_test_split(X, y, test_size=0.33, random_state=42)"
   ]
  },
  {
   "cell_type": "code",
   "execution_count": 80,
   "id": "5ea8a6a2",
   "metadata": {},
   "outputs": [],
   "source": [
    "from sklearn.pipeline import Pipeline\n",
    "from sklearn.preprocessing import OneHotEncoder\n",
    "from sklearn.compose import ColumnTransformer\n",
    "from sklearn.linear_model import LogisticRegression\n",
    "\n",
    "# Define the preprocessing for the text column\n",
    "preprocessor = Pipeline(steps=[\n",
    "    ('text_cleaning', CleanTextTransformer()),\n",
    "    ('vectorizer', OneHotEncoder(handle_unknown='ignore'))\n",
    "])\n",
    "\n",
    "# Create the full pipeline\n",
    "pipeline = Pipeline(steps=[\n",
    "    ('preprocessor', preprocessor),\n",
    "    ('classifier', LogisticRegression())\n",
    "])"
   ]
  },
  {
   "cell_type": "code",
   "execution_count": 81,
   "id": "e1519948",
   "metadata": {},
   "outputs": [
    {
     "name": "stdout",
     "output_type": "stream",
     "text": [
      "<class 'pandas.core.series.Series'>\n",
      "2031    received  from hawaii ireaye net              ...\n",
      "993     from fork admin xent com  mon sep             ...\n",
      "4062    from fork admin xent com  sun sep             ...\n",
      "8143    from ilug admin linux ie  mon sep             ...\n",
      "6531    from fork admin xent com  fri jul             ...\n",
      "                              ...                        \n",
      "5734    from mail dogma slashnull org  mon jul        ...\n",
      "5191    from fork admin xent com  thu sep             ...\n",
      "5390    from rssfeeds jmason org  thu oct             ...\n",
      "860     from fork admin xent com  fri sep             ...\n",
      "7270    from webmake talk admin lists sourceforge net ...\n",
      "Name: text, Length: 6264, dtype: object\n",
      "<class 'pandas.core.series.Series'>\n",
      "2031    [received, from, hawaii, ireaye, net, by, linu...\n",
      "993     [from, fork, admin, xent, com, mon, sep, retur...\n",
      "4062    [from, fork, admin, xent, com, sun, sep, retur...\n",
      "8143    [from, ilug, admin, linux, ie, mon, sep, retur...\n",
      "6531    [from, fork, admin, xent, com, fri, jul, retur...\n",
      "                              ...                        \n",
      "5734    [from, mail, dogma, slashnull, org, mon, jul, ...\n",
      "5191    [from, fork, admin, xent, com, thu, sep, retur...\n",
      "5390    [from, rssfeeds, jmason, org, thu, oct, return...\n",
      "860     [from, fork, admin, xent, com, fri, sep, retur...\n",
      "7270    [from, webmake, talk, admin, lists, sourceforg...\n",
      "Name: text, Length: 6264, dtype: object\n"
     ]
    },
    {
     "ename": "ValueError",
     "evalue": "Expected 2D array, got 1D array instead:\narray=[list(['received', 'from', 'hawaii', 'ireaye', 'net', 'by', 'linux', 'midrange', 'com', 'with', 'esmtp', 'id', 'g', 'l', 'qh', 'for', 'gibbs', 'midrange', 'com', 'sat', 'jul', 'message', 'id', 'g', 'l', 'qh', 'linux', 'midrange', 'com', 'received', 'from', 'alabama', 'by', 'hawaii', 'ireaye', 'net', 'lsmtp', 'for', 'windows', 'nt', 'v', 'b', 'with', 'smtp', 'id', 'a', 'hawaii', 'ireaye', 'net', 'jul', 'date', 'sat', 'jul', 'from', 'callie', 'callie', 'dealsweeps', 'ireaye', 'net', 'subject', 'discover', 'platinum', 'clear', 'card', 'new', 'clear', 'design', 'to', 'gibbs', 'midrange', 'com', 'mime', 'version', 'content', 'type', 'text', 'html', 'x', 'status', 'x', 'keywords', 'doctype', 'html', 'public', 'w', 'c', 'dtd', 'html', 'transitional', 'en', 'meta', 'name', 'ad', 'content', 'ls', 'xi', 'cg', 'html', 'head', 'title', 'discover', 'reg', 'platinum', 'clear', 'card', 'title', 'head', 'map', 'name', 'apply', 'area', 'shape', 'rect', 'coords', 'href', 'http', 'www', 'dealsweeps', 'com', 'c', 'asp', 'lk', 'em', 'q', 'map', 'body', 'bgcolor', 'ffffff', 'img', 'src', 'http', 'img', 'freeze', 'com', 'hot', 'number', 'gif', 'width', 'height', 'usemap', 'apply', 'border', 'left', 'font', 'size', 'br', 'click', 'a', 'href', 'http', 'www', 'dealsweeps', 'com', 'c', 'asp', 'lk', 'em', 'q', 'here', 'a', 'to', 'see', 'information', 'about', 'the', 'apr', 'fees', 'and', 'other', 'important', 'information', 'font', 'disclaimer', 'br', 'center', 'table', 'width', 'border', 'cellspacing', 'cellpadding', 'align', 'center', 'tr', 'td', 'font', 'face', 'verdana', 'arial', 'helvetica', 'sans', 'serif', 'size', 'br', 'the', 'preceding', 'message', 'was', 'sent', 'to', 'you', 'as', 'an', 'opt', 'in', 'subscriber', 'to', 'dealsweeps', 'we', 'will', 'continue', 'to', 'bring', 'you', 'valuable', 'offers', 'on', 'the', 'products', 'and', 'services', 'that', 'interest', 'you', 'most', 'if', 'you', 'wish', 'to', 'unsubscribe', 'please', 'click', 'here', 'a', 'href', 'http', 'www', 'dealsweeps', 'com', 'remove', 'asp', 'e', 'gibbs', 'midrange', 'com', 'http', 'www', 'dealsweeps', 'com', 'remove', 'asp', 'e', 'gibbs', 'midrange', 'com', 'a', 'br', 'font', 'td', 'tr', 'table', 'img', 'src', 'http', 'www', 'dealsweeps', 'com', 'o', 'asp', 'sc', 'q', 'em', 'width', 'height', 'center', 'gibbs', 'midrange', 'com', 'disclaimer', 'body', 'html'])\n list(['from', 'fork', 'admin', 'xent', 'com', 'mon', 'sep', 'return', 'path', 'fork', 'admin', 'xent', 'com', 'delivered', 'to', 'yyyy', 'localhost', 'spamassassin', 'taint', 'org', 'received', 'from', 'localhost', 'jalapeno', 'by', 'jmason', 'org', 'postfix', 'with', 'esmtp', 'id', 'e', 'f', 'for', 'jm', 'localhost', 'mon', 'sep', 'ist', 'received', 'from', 'jalapeno', 'by', 'localhost', 'with', 'imap', 'fetchmail', 'for', 'jm', 'localhost', 'single', 'drop', 'mon', 'sep', 'ist', 'received', 'from', 'xent', 'com', 'by', 'dogma', 'slashnull', 'org', 'with', 'esmtp', 'id', 'g', 'nrcc', 'for', 'jm', 'jmason', 'org', 'mon', 'sep', 'received', 'from', 'lair', 'xent', 'com', 'localhost', 'by', 'xent', 'com', 'postfix', 'with', 'esmtp', 'id', 'd', 'c', 'sun', 'sep', 'pdt', 'delivered', 'to', 'fork', 'spamassassin', 'taint', 'org', 'received', 'from', 'panacea', 'canonical', 'org', 'ns', 'canonical', 'org', 'by', 'xent', 'com', 'postfix', 'with', 'esmtp', 'id', 'ee', 'c', 'for', 'fork', 'xent', 'com', 'sun', 'sep', 'pdt', 'received', 'by', 'panacea', 'canonical', 'org', 'postfix', 'from', 'userid', 'id', 'f', 'f', 'e', 'sun', 'sep', 'edt', 'from', 'kragen', 'pobox', 'com', 'kragen', 'sitaker', 'to', 'fork', 'spamassassin', 'taint', 'org', 'subject', 'earthviewer', 'was', 're', 'whoa', 'message', 'id', 'f', 'f', 'e', 'panacea', 'canonical', 'org', 'sender', 'fork', 'admin', 'xent', 'com', 'errors', 'to', 'fork', 'admin', 'xent', 'com', 'x', 'beenthere', 'fork', 'spamassassin', 'taint', 'org', 'x', 'mailman', 'version', 'precedence', 'bulk', 'list', 'help', 'mailto', 'fork', 'request', 'xent', 'com', 'subject', 'help', 'list', 'post', 'mailto', 'fork', 'spamassassin', 'taint', 'org', 'list', 'subscribe', 'http', 'xent', 'com', 'mailman', 'listinfo', 'fork', 'mailto', 'fork', 'request', 'xent', 'com', 'subject', 'subscribe', 'list', 'id', 'friends', 'of', 'rohit', 'khare', 'fork', 'xent', 'com', 'list', 'unsubscribe', 'http', 'xent', 'com', 'mailman', 'listinfo', 'fork', 'mailto', 'fork', 'request', 'xent', 'com', 'subject', 'unsubscribe', 'list', 'archive', 'http', 'xent', 'com', 'pipermail', 'fork', 'date', 'sun', 'sep', 'edt', 'on', 'am', 'gary', 'lawrence', 'murphy', 'garym', 'canada', 'com', 'wrote', 'j', 'if', 'you', 'want', 'a', 'region', 'of', 'the', 'globe', 'mapped', 'out', 'to', 'a', 'very', 'j', 'high', 'resolution', 'e', 'g', 'meter', 'they', 'can', 'scan', 'the', 'area', 'with', 'j', 'aircraft', 'lidar', 'and', 'add', 'it', 'to', 'the', 'database', 'thereby', 'making', 'that', 'j', 'region', 'zoomable', 'to', 'the', 'resolution', 'of', 'the', 'database', 'for', 'that', 'j', 'area', 'can', 'you', 'give', 'us', 'an', 'example', 'of', 'an', 'application', 'where', 'm', 'resolution', 'would', 'be', 'worth', 'the', 'considerable', 'expense', 'planning', 'battle', 'tactics', 'for', 'this', 'reason', 'the', 'intelligence', 'press', 'reports', 'spy', 'satellites', 'have', 'had', 'meter', 'resolution', 'for', 'many', 'years', 'finding', 'an', 'individual', 'vehicle', 'in', 'a', 'city', 'might', 'occasionally', 'be', 'possible', 'with', 'm', 'images', 'and', 'might', 'occasionally', 'also', 'be', 'worth', 'the', 'money', 'for', 'small', 'areas', 'you', 'have', 'legitimate', 'access', 'to', 'it', 's', 'probably', 'cheaper', 'to', 'go', 'there', 'with', 'a', 'digital', 'camera', 'and', 'a', 'gps', 'and', 'take', 'some', 'snapshots', 'from', 'ground', 'level', 'aerial', 'photos', 'might', 'be', 'cheaper', 'for', 'large', 'areas', 'areas', 'where', 'you', 're', 'not', 'allowed', 'or', 'perhaps', 'physically', 'able', 'to', 'go', 'and', 'cases', 'where', 'you', 'don', 't', 'have', 'time', 'to', 'send', 'a', 'ground', 'guy', 'around', 'the', 'whole', 'area', 'kragen', 'pobox', 'com', 'kragen', 'sitaker', 'http', 'www', 'pobox', 'com', 'kragen', 'edsger', 'wybe', 'dijkstra', 'died', 'in', 'august', 'of', 'the', 'world', 'has', 'lost', 'a', 'great', 'man', 'see', 'http', 'advogato', 'org', 'person', 'raph', 'diary', 'html', 'start', 'and', 'http', 'www', 'kode', 'fu', 'com', 'geek', 'archive', 'shtml', 'for', 'details'])\n list(['from', 'fork', 'admin', 'xent', 'com', 'sun', 'sep', 'return', 'path', 'fork', 'admin', 'xent', 'com', 'delivered', 'to', 'yyyy', 'localhost', 'spamassassin', 'taint', 'org', 'received', 'from', 'localhost', 'jalapeno', 'by', 'jmason', 'org', 'postfix', 'with', 'esmtp', 'id', 'c', 'bd', 'f', 'for', 'jm', 'localhost', 'sun', 'sep', 'ist', 'received', 'from', 'jalapeno', 'by', 'localhost', 'with', 'imap', 'fetchmail', 'for', 'jm', 'localhost', 'single', 'drop', 'sun', 'sep', 'ist', 'received', 'from', 'xent', 'com', 'by', 'dogma', 'slashnull', 'org', 'with', 'esmtp', 'id', 'g', 'mhgrc', 'for', 'jm', 'jmason', 'org', 'sun', 'sep', 'received', 'from', 'lair', 'xent', 'com', 'localhost', 'by', 'xent', 'com', 'postfix', 'with', 'esmtp', 'id', 'd', 'bb', 'sun', 'sep', 'pdt', 'delivered', 'to', 'fork', 'spamassassin', 'taint', 'org', 'received', 'from', 'jasper', 'he', 'net', 'jasper', 'he', 'net', 'by', 'xent', 'com', 'postfix', 'with', 'esmtp', 'id', 'f', 'dd', 'a', 'for', 'fork', 'xent', 'com', 'sun', 'sep', 'pdt', 'received', 'from', 'whump', 'com', 'sdsl', 'dsl', 'sjc', 'megapath', 'net', 'by', 'jasper', 'he', 'net', 'with', 'esmtp', 'id', 'kaa', 'sun', 'sep', 'subject', 're', 'flavor', 'cystals', 'content', 'type', 'text', 'plain', 'charset', 'us', 'ascii', 'format', 'flowed', 'mime', 'version', 'apple', 'message', 'framework', 'v', 'cc', 'fork', 'fork', 'spamassassin', 'taint', 'org', 'to', 'joseph', 's', 'barrera', 'iii', 'joe', 'barrera', 'org', 'from', 'bill', 'humphries', 'bill', 'whump', 'com', 'in', 'reply', 'to', 'd', 'd', 'c', 'b', 'barrera', 'org', 'message', 'id', 'efc', 'cd', 'ce', 'f', 'd', 'a', 'f', 'cd', 'whump', 'com', 'content', 'transfer', 'encoding', 'bit', 'x', 'mailer', 'apple', 'mail', 'sender', 'fork', 'admin', 'xent', 'com', 'errors', 'to', 'fork', 'admin', 'xent', 'com', 'x', 'beenthere', 'fork', 'spamassassin', 'taint', 'org', 'x', 'mailman', 'version', 'precedence', 'bulk', 'list', 'help', 'mailto', 'fork', 'request', 'xent', 'com', 'subject', 'help', 'list', 'post', 'mailto', 'fork', 'spamassassin', 'taint', 'org', 'list', 'subscribe', 'http', 'xent', 'com', 'mailman', 'listinfo', 'fork', 'mailto', 'fork', 'request', 'xent', 'com', 'subject', 'subscribe', 'list', 'id', 'friends', 'of', 'rohit', 'khare', 'fork', 'xent', 'com', 'list', 'unsubscribe', 'http', 'xent', 'com', 'mailman', 'listinfo', 'fork', 'mailto', 'fork', 'request', 'xent', 'com', 'subject', 'unsubscribe', 'list', 'archive', 'http', 'xent', 'com', 'pipermail', 'fork', 'date', 'sun', 'sep', 'on', 'saturday', 'september', 'at', 'pm', 'joseph', 's', 'barrera', 'iii', 'wrote', 'better', 'yet', 'tell', 'me', 'where', 'i', 'should', 'be', 'listening', 'for', 'new', 'music', 'now', 'that', 'p', 'p', 'is', 'dead', 'and', 'i', 'still', 'can', 't', 'pick', 'up', 'kfjc', 'very', 'well', 'kfjc', 'has', 'a', 'mp', 'stream', 'at', 'kfjc', 'org', 'i', 'd', 'also', 'recommend', 'radioparadise', 'com', 'i', 'remember', 'the', 'suburban', 'lawns', 'but', 'i', 'don', 't', 'know', 'what', 'became', 'of', 'them', 'apropos', 'of', 'nothing', 'spirited', 'away', 'is', 'amazing', 'go', 'see', 'it', 'now', 'whump'])\n ...\n list(['from', 'rssfeeds', 'jmason', 'org', 'thu', 'oct', 'return', 'path', 'rssfeeds', 'example', 'com', 'delivered', 'to', 'yyyy', 'localhost', 'example', 'com', 'received', 'from', 'localhost', 'jalapeno', 'by', 'jmason', 'org', 'postfix', 'with', 'esmtp', 'id', 'd', 'a', 'f', 'f', 'for', 'jm', 'localhost', 'thu', 'oct', 'ist', 'received', 'from', 'jalapeno', 'by', 'localhost', 'with', 'imap', 'fetchmail', 'for', 'jm', 'localhost', 'single', 'drop', 'thu', 'oct', 'ist', 'received', 'from', 'dogma', 'slashnull', 'org', 'localhost', 'by', 'dogma', 'slashnull', 'org', 'with', 'esmtp', 'id', 'g', 'k', 'for', 'jm', 'jmason', 'org', 'thu', 'oct', 'message', 'id', 'g', 'k', 'dogma', 'slashnull', 'org', 'to', 'yyyy', 'example', 'com', 'from', 'boingboing', 'rssfeeds', 'example', 'com', 'subject', 'comics', 'journal', 'interviews', 'ted', 'rall', 'date', 'thu', 'oct', 'content', 'type', 'text', 'plain', 'encoding', 'utf', 'x', 'spam', 'status', 'no', 'hits', 'required', 'tests', 'awl', 'spam', 'phrase', 'version', 'cvs', 'x', 'spam', 'level', 'url', 'http', 'boingboing', 'net', 'date', 'not', 'supplied', 'interview', 'with', 'cartoonist', 'ted', 'rall', 'who', 'has', 'traveled', 'to', 'south', 'asia', 'recently', 'and', 'has', 'tips', 'on', 'how', 'to', 'deal', 'with', 'bribe', 'hungry', 'border', 'guards', 'and', 'the', 'like', 'rall', 'now', 'i', 'realize', 'that', 's', 'just', 'the', 'way', 'it', 'is', 'and', 'i', 'know', 'how', 'to', 'do', 'it', 'and', 'get', 'away', 'without', 'paying', 'a', 'bribe', 'or', 'paying', 'something', 'very', 'modest', 'you', 'have', 'to', 'show', 'them', 'that', 'you', 'know', 'the', 'routine', 'and', 'that', 'you', 'know', 'you', 'don', 't', 'have', 'to', 'give', 'them', 'anything', 'and', 'just', 'have', 'a', 'low', 'key', 'demeanor', 'but', 'if', 'you', 'get', 'angry', 'that', 's', 'just', 'going', 'to', 'make', 'things', 'worse', 'for', 'you', 'you', 'get', 'out', 'of', 'your', 'vehicle', 'and', 'you', 'walk', 'up', 'to', 'them', 'you', 'don', 't', 'try', 'to', 'avoid', 'these', 'guys', 'you', 'don', 't', 'try', 'to', 'avoid', 'their', 'eyes', 'you', 'go', 'up', 'with', 'a', 'big', 'smile', 'give', 'them', 'a', 'big', 'handshake', 'and', 'sort', 'of', 'rub', 'their', 'shoulders', 'and', 'say', 'hey', 'great', 'to', 'see', 'you', 'you', 're', 'my', 'new', 'best', 'friend', 'for', 'the', 'next', 'five', 'minutes', 'groth', 'basically', 'act', 'like', 'a', 'used', 'car', 'salesman', 'rall', 'it', 's', 'exactly', 'like', 'that', 'you', 'always', 'carry', 'cigarettes', 'you', 'offer', 'them', 'a', 'cigarette', 'and', 'you', 'say', 'hey', 'what', 's', 'goin', 'on', 'how', 's', 'it', 'goin', 'great', 'here', 's', 'my', 'documents', 'how', 's', 'the', 'road', 'just', 'small', 'talk', 'because', 'these', 'guys', 'are', 'bored', 'they', 're', 'in', 'the', 'middle', 'of', 'nowhere', 'and', 'you', 're', 'sometimes', 'the', 'only', 'vehicle', 'they', 've', 'seen', 'for', 'many', 'hours', 'they', 're', 'often', 'very', 'drunk', 'so', 'you', 'just', 'have', 'to', 'be', 'cool', 'link', 'discuss', 'http', 'www', 'tcj', 'com', 'i', 'rall', 'html', 'http', 'www', 'quicktopic', 'com', 'h', 'de', 'bfpnmekg'])\n list(['from', 'fork', 'admin', 'xent', 'com', 'fri', 'sep', 'return', 'path', 'fork', 'admin', 'xent', 'com', 'delivered', 'to', 'yyyy', 'localhost', 'spamassassin', 'taint', 'org', 'received', 'from', 'localhost', 'jalapeno', 'by', 'jmason', 'org', 'postfix', 'with', 'esmtp', 'id', 'c', 'f', 'b', 'for', 'jm', 'localhost', 'fri', 'sep', 'ist', 'received', 'from', 'jalapeno', 'by', 'localhost', 'with', 'imap', 'fetchmail', 'for', 'jm', 'localhost', 'single', 'drop', 'fri', 'sep', 'ist', 'received', 'from', 'webnote', 'net', 'mail', 'webnote', 'net', 'by', 'dogma', 'slashnull', 'org', 'with', 'esmtp', 'id', 'g', 'gaw', 'for', 'jm', 'jmason', 'org', 'fri', 'sep', 'received', 'from', 'xent', 'com', 'by', 'webnote', 'net', 'with', 'esmtp', 'id', 'iaa', 'for', 'jm', 'jmason', 'org', 'fri', 'sep', 'received', 'from', 'lair', 'xent', 'com', 'localhost', 'by', 'xent', 'com', 'postfix', 'with', 'esmtp', 'id', 'daccf', 'b', 'fri', 'sep', 'pdt', 'delivered', 'to', 'fork', 'spamassassin', 'taint', 'org', 'received', 'from', 'isolnetsux', 'techmonkeys', 'net', 'isolnetsux', 'techmonkeys', 'net', 'by', 'xent', 'com', 'postfix', 'with', 'smtp', 'id', 'efa', 'f', 'for', 'fork', 'xent', 'com', 'fri', 'sep', 'pdt', 'received', 'qmail', 'invoked', 'by', 'uid', 'sep', 'received', 'from', 'localhost', 'sendmail', 'bs', 'by', 'localhost', 'with', 'smtp', 'sep', 'from', 'cdale', 'cdale', 'techmonkeys', 'net', 'to', 'bitbitch', 'magnesium', 'net', 'cc', 'adam', 'l', 'beberg', 'beberg', 'mithral', 'com', 'fork', 'spamassassin', 'taint', 'org', 'subject', 're', 'selling', 'wedded', 'bliss', 'was', 're', 'ouch', 'in', 'reply', 'to', 'magnesium', 'net', 'message', 'id', 'pine', 'lnx', 'isolnetsux', 'techmonkeys', 'net', 'mime', 'version', 'content', 'type', 'text', 'plain', 'charset', 'us', 'ascii', 'sender', 'fork', 'admin', 'xent', 'com', 'errors', 'to', 'fork', 'admin', 'xent', 'com', 'x', 'beenthere', 'fork', 'spamassassin', 'taint', 'org', 'x', 'mailman', 'version', 'precedence', 'bulk', 'list', 'help', 'mailto', 'fork', 'request', 'xent', 'com', 'subject', 'help', 'list', 'post', 'mailto', 'fork', 'spamassassin', 'taint', 'org', 'list', 'subscribe', 'http', 'xent', 'com', 'mailman', 'listinfo', 'fork', 'mailto', 'fork', 'request', 'xent', 'com', 'subject', 'subscribe', 'list', 'id', 'friends', 'of', 'rohit', 'khare', 'fork', 'xent', 'com', 'list', 'unsubscribe', 'http', 'xent', 'com', 'mailman', 'listinfo', 'fork', 'mailto', 'fork', 'request', 'xent', 'com', 'subject', 'unsubscribe', 'list', 'archive', 'http', 'xent', 'com', 'pipermail', 'fork', 'date', 'fri', 'sep', 'cdt', 'i', 'dunno', 'bb', 'women', 'who', 'like', 'to', 'be', 'thought', 'of', 'this', 'way', 'should', 'have', 'the', 'right', 'to', 'choose', 'to', 'be', 'treated', 'this', 'way', 'men', 'too', 'ahem', 'my', 'boy', 'cleans', 'washes', 'clothes', 'cooks', 'fixes', 'stuff', 'etc', 'and', 'works', 'the', 'same', 'number', 'of', 'hours', 'i', 'do', 'sometimes', 'more', 'if', 'he', 'has', 'to', 'catch', 'up', 'with', 'me', 'i', 'close', 'him', 'because', 'he', 'is', 'industrious', 'and', 'creative', 'and', 'because', 'he', 'unfailingly', 'makes', 'my', 'bed', 'the', 'minute', 'i', 'get', 'out', 'of', 'it', 'and', 'boy', 'will', 'be', 'here', 'soon', 'to', 'help', 'boy', 'with', 'other', 'things', 'such', 'as', 'pedicures', 'backrubs', 'and', 'sure', 'fucking', 'lol', 'along', 'with', 'the', 'aforementioned', 'chores', 'adam', 'can', 'have', 'his', 'cake', 'and', 'eat', 'it', 'too', 'if', 'he', 'can', 'only', 'find', 'the', 'right', 'girl', 'who', 'has', 'the', 'same', 'beliefs', 'about', 'gender', 'roles', 'that', 'he', 'has', 'of', 'course', 'he', 'has', 'no', 'clue', 'where', 'to', 'look', 'so', 'we', 'will', 'be', 'constantly', 'laughing', 'at', 'him', 'while', 'he', 'stumbles', 'around', 'in', 'the', 'dark', 'cindy', 'p', 's', 'the', 'numbers', 'do', 'not', 'in', 'any', 'way', 'indicate', 'importance', 'or', 'favor', 'only', 'the', 'order', 'in', 'which', 'they', 'move', 'into', 'my', 'house', 'smiles', 'at', 'chris', 'p', 's', 'i', 'm', 'moving', 'going', 'to', 'new', 'orleans', 'can', 't', 'handle', 'any', 'more', 'cab', 'driving', 'the', 'summer', 'sucked', 'here', 'on', 'the', 'ms', 'gulf', 'coast', 'instead', 'of', 'rocking', 'like', 'it', 'normally', 'does', 'wish', 'me', 'luck', 'i', 'm', 'going', 'to', 'look', 'for', 'another', 'computer', 'job', 'le', 'sigh', 'on', 'thu', 'sep', 'bitbitch', 'magnesium', 'net', 'wrote', 'hello', 'adam', 'thursday', 'september', 'pm', 'you', 'wrote', 'alb', 'so', 'you', 're', 'saying', 'that', 'product', 'bundling', 'works', 'good', 'point', 'sometimes', 'i', 'wish', 'i', 'was', 'still', 'in', 'ca', 'you', 'deserve', 'a', 'good', 'beating', 'every', 'so', 'often', 'anyone', 'else', 'want', 'to', 'do', 'the', 'honors', 'alb', 'and', 'how', 'is', 'this', 'any', 'different', 'from', 'normal', 'marriage', 'exactly', 'other', 'then', 'alb', 'that', 'the', 'woman', 'not', 'only', 'gets', 'a', 'man', 'but', 'one', 'in', 'a', 'country', 'where', 'both', 'she', 'and', 'alb', 'her', 'offspring', 'will', 'have', 'actual', 'opportunities', 'oh', 'and', 'the', 'lack', 'of', 'alb', 'de', 'feminized', 'over', 'sized', 'self', 'centered', 'mercenary', 'minded', 'choices', 'mmkay', 'for', 'the', 'nth', 'time', 'adam', 'we', 'don', 't', 'live', 'in', 'the', 'land', 'of', 'adam', 'fantasy', 'women', 'actually', 'are', 'allowed', 'to', 'do', 'things', 'productive', 'independent', 'and', 'entirely', 'free', 'of', 'their', 'male', 'counterparts', 'they', 'aren', 't', 'forced', 'to', 'cook', 'and', 'clean', 'and', 'merely', 'be', 'sexual', 'vessels', 'sometimes', 'and', 'this', 'will', 'come', 'as', 'a', 'shock', 'to', 'you', 'no', 'doubt', 'men', 'and', 'women', 'even', 'find', 'love', 'which', 'is', 'the', 'crucial', 'distinction', 'between', 'this', 'system', 'and', 'they', 'marry', 'one', 'another', 'for', 'the', 'satisfaction', 'of', 'being', 'together', 'i', 'know', 'far', 'fetched', 'and', 'idealistically', 'crazy', 'as', 'it', 'is', 'but', 'such', 'things', 'do', 'happen', 'i', 'can', 'guarantee', 'you', 'if', 'my', 'mother', 'was', 'approached', 'by', 'my', 'father', 'and', 'years', 'ago', 'he', 'commented', 'on', 'her', 'cleaning', 'ability', 'as', 'a', 'motivator', 'for', 'marrying', 'her', 'we', 'would', 'not', 'be', 'having', 'this', 'conversation', 'now', 'if', 'guys', 'still', 'have', 'silly', 'antequated', 'ideas', 'about', 'women', 's', 'role', 'then', 'their', 'opportunities', 'for', 'finding', 'women', 'will', 'be', 'scarce', 'again', 'these', 'situations', 'are', 'great', 'provided', 'everyone', 'is', 'aware', 'that', 'the', 'relationship', 'is', 'a', 'contractual', 'one', 'he', 'wants', 'a', 'maid', 'a', 'dog', 'and', 'a', 'prostitute', 'he', 'doesn', 't', 'have', 'to', 'pay', 'and', 'she', 'wants', 'a', 'country', 'that', 'isn', 't', 'impoverished', 'and', 'teeming', 'with', 'aids', 'a', 'contract', 'versus', 'a', 'true', 'love', 'interest', 'marriage', 'egh', 'i', 'really', 'need', 'to', 'stop', 'analyzing', 'your', 'posts', 'to', 'this', 'extent', 'i', 'blame', 'law', 'school', 'and', 'my', 'cat', 'bb', 'alb', 'adam', 'l', 'duncan', 'beberg', 'alb', 'http', 'www', 'mithral', 'com', 'beberg', 'alb', 'beberg', 'mithral', 'com', 'i', 'don', 't', 'take', 'no', 'stocks', 'in', 'mathematics', 'anyway', 'huckleberry', 'finn'])\n list(['from', 'webmake', 'talk', 'admin', 'lists', 'sourceforge', 'net', 'mon', 'jul', 'return', 'path', 'webmake', 'talk', 'admin', 'example', 'sourceforge', 'net', 'delivered', 'to', 'yyyy', 'localhost', 'netnoteinc', 'com', 'received', 'from', 'localhost', 'localhost', 'by', 'phobos', 'labs', 'netnoteinc', 'com', 'postfix', 'with', 'esmtp', 'id', 'fc', 'c', 'for', 'jm', 'localhost', 'mon', 'jul', 'edt', 'received', 'from', 'dogma', 'slashnull', 'org', 'by', 'localhost', 'with', 'imap', 'fetchmail', 'for', 'jm', 'localhost', 'single', 'drop', 'mon', 'jul', 'ist', 'received', 'from', 'webnote', 'net', 'mail', 'webnote', 'net', 'by', 'dogma', 'slashnull', 'org', 'with', 'esmtp', 'id', 'g', 'mg', 'py', 'for', 'jm', 'jmason', 'org', 'mon', 'jul', 'received', 'from', 'usw', 'sf', 'list', 'sourceforge', 'net', 'usw', 'sf', 'fw', 'sourceforge', 'net', 'by', 'webnote', 'net', 'with', 'esmtp', 'id', 'kaa', 'for', 'jm', 'jmason', 'org', 'sun', 'jul', 'received', 'from', 'usw', 'sf', 'list', 'b', 'sourceforge', 'net', 'helo', 'usw', 'sf', 'list', 'sourceforge', 'net', 'by', 'usw', 'sf', 'list', 'sourceforge', 'net', 'with', 'esmtp', 'exim', 'va', 'mm', 'debian', 'id', 'wcmw', 'zk', 'sun', 'jul', 'received', 'from', 'helo', 'localhost', 'com', 'by', 'usw', 'sf', 'list', 'sourceforge', 'net', 'with', 'smtp', 'exim', 'va', 'mm', 'debian', 'id', 'wcmr', 'for', 'webmake', 'talk', 'lists', 'sourceforge', 'net', 'sun', 'jul', 'from', 'targetemailextractor', 'btamail', 'net', 'cn', 'reply', 'to', 'targetemailextractor', 'btamail', 'net', 'cn', 'to', 'webmake', 'talk', 'example', 'sourceforge', 'net', 'x', 'mailer', 'quicksender', 'mime', 'version', 'message', 'id', 'e', 'wcmr', 'usw', 'sf', 'list', 'sourceforge', 'net', 'subject', 'wm', 'adv', 'direct', 'email', 'blaster', 'email', 'addresses', 'extractor', 'maillist', 'verify', 'maillist', 'manager', 'sender', 'webmake', 'talk', 'admin', 'example', 'sourceforge', 'net', 'errors', 'to', 'webmake', 'talk', 'admin', 'example', 'sourceforge', 'net', 'x', 'beenthere', 'webmake', 'talk', 'example', 'sourceforge', 'net', 'x', 'mailman', 'version', 'sf', 'net', 'precedence', 'bulk', 'list', 'help', 'mailto', 'webmake', 'talk', 'request', 'example', 'sourceforge', 'net', 'subject', 'help', 'list', 'post', 'mailto', 'webmake', 'talk', 'example', 'sourceforge', 'net', 'list', 'subscribe', 'https', 'example', 'sourceforge', 'net', 'lists', 'listinfo', 'webmake', 'talk', 'mailto', 'webmake', 'talk', 'request', 'lists', 'sourceforge', 'net', 'subject', 'subscribe', 'list', 'id', 'discussion', 'of', 'webmake', 'webmake', 'talk', 'example', 'sourceforge', 'net', 'list', 'unsubscribe', 'https', 'example', 'sourceforge', 'net', 'lists', 'listinfo', 'webmake', 'talk', 'mailto', 'webmake', 'talk', 'request', 'lists', 'sourceforge', 'net', 'subject', 'unsubscribe', 'list', 'archive', 'http', 'www', 'geocrawler', 'com', 'redir', 'sf', 'php', 'list', 'webmake', 'talk', 'x', 'original', 'date', 'sun', 'jul', 'date', 'sun', 'jul', 'content', 'type', 'text', 'html', 'charset', 'us', 'ascii', 'content', 'transfer', 'encoding', 'quoted', 'printable', 'cbody', 'bgcolor', 'd', 'ffffff', 'e', 'cdiv', 'e', 'cfont', 'size', 'd', 'e', 'cdiv', 'e', 'cfont', 'face', 'darial', 'e', 'nbsp', 'b', 'c', 'ffont', 'e', 'c', 'fdiv', 'e', 'cdiv', 'e', 'nbsp', 'b', 'c', 'fdiv', 'e', 'cdiv', 'e', 'cstrong', 'e', 'cfont', 'color', 'd', 'ff', 'face', 'darial', 'size', 'd', 'edirect', 'email', 'blaster', 'c', 'ffont', 'e', 'c', 'fstrong', 'e', 'c', 'fdiv', 'e', 'cfont', 'size', 'd', 'e', 'cp', 'e', 'cfont', 'face', 'darial', 'e', 'cb', 'e', 'cfont', 'color', 'd', 'e', 'ci', 'ethe', 'program', 'will', 'send', 'mail', 'at', 'the', 'rate', 'of', 'over', 'c', 'e', 'mails', 'per', 'minute', 'e', 'nbsp', 'b', 'c', 'fi', 'e', 'c', 'ffont', 'e', 'cbr', 'elegal', 'and', 'fast', 'sending', 'bulk', 'emails', 'nbsp', 'b', 'cbr', 'e', 'cfont', 'color', 'd', 'e', 'ci', 'ebuilt', 'in', 'smtp', 'server', 'nbsp', 'b', 'c', 'fi', 'e', 'c', 'ffont', 'e', 'cbr', 'ehave', 'return', 'path', 'nbsp', 'b', 'cbr', 'ecan', 'check', 'mail', 'address', 'nbsp', 'b', 'cbr', 'e', 'cfont', 'color', 'd', 'e', 'ci', 'emake', 'error', 'send', 'address', 'list', 'remove', 'or', 'send', 'again', 'nbsp', 'b', 'c', 'fi', 'e', 'c', 'ffont', 'e', 'cbr', 'esupport', 'multi', 'threads', 'e', 'nbsp', 'b', 'cbr', 'esupport', 'multi', 'smtp', 'servers', 'e', 'nbsp', 'b', 'cbr', 'emanages', 'your', 'opt', 'in', 'e', 'mail', 'lists', 'nbsp', 'b', 'cbr', 'eoffers', 'an', 'easy', 'to', 'use', 'interface', 'nbsp', 'b', 'cbr', 'eeasy', 'to', 'configure', 'and', 'use', 'nbsp', 'b', 'c', 'fb', 'e', 'c', 'ffont', 'e', 'c', 'fp', 'e', 'cp', 'e', 'cfont', 'face', 'darial', 'e', 'ca', 'href', 'd', 'http', 'a', 'f', 'fwww', 'ewldinfo', 'ecom', 'fbj', 'fdownload', 'fedeb', 'fset', 'ezip', 'e', 'cstrong', 'edownload', 'now', 'c', 'fstrong', 'e', 'c', 'fa', 'e', 'c', 'ffont', 'e', 'c', 'fp', 'e', 'cp', 'e', 'cstrong', 'e', 'cfont', 'color', 'd', 'ff', 'face', 'darial', 'size', 'd', 'emaillist', 'verify', 'c', 'ffont', 'e', 'c', 'fstrong', 'e', 'c', 'fp', 'e', 'cp', 'e', 'cfont', 'face', 'darial', 'emaillist', 'verify', 'is', 'intended', 'for', 'e', 'mail', 'addresses', 'and', 'mail', 'lists', 'verifying', 'e', 'the', 'main', 'task', 'is', 'to', 'determine', 'which', 'of', 'addresses', 'in', 'the', 'mail', 'list', 'are', 'dead', 'e', 'the', 'program', 'is', 'oriented', 'c', 'basically', 'c', 'on', 'programmers', 'which', 'have', 'their', 'own', 'mail', 'lists', 'to', 'inform', 'their', 'users', 'about', 'new', 'versions', 'of', 'their', 'programs', 'e', 'c', 'ffont', 'e', 'c', 'fp', 'e', 'cp', 'e', 'cfont', 'face', 'darial', 'ethe', 'program', 'works', 'on', 'the', 'same', 'algorithm', 'as', 'isp', 'mail', 'systems', 'do', 'e', 'mail', 'servers', 'addresses', 'for', 'specified', 'address', 'are', 'extracted', 'from', 'dns', 'e', 'the', 'program', 'tries', 'to', 'connect', 'with', 'found', 'smtp', 'servers', 'and', 'simulates', 'the', 'sending', 'of', 'message', 'e', 'it', 'does', 'not', 'come', 'to', 'the', 'message', 'cnobr', 'esending', 'b', 'fnobr', 'gt', 'b', 'emv', 'disconnect', 'as', 'soon', 'as', 'mail', 'server', 'informs', 'does', 'this', 'address', 'exist', 'or', 'not', 'e', 'emv', 'can', 'find', 'c', 'fnobr', 'e', 'c', 'ffont', 'e', 'c', 'fp', 'e', 'cp', 'e', 'cfont', 'face', 'darial', 'e', 'cnobr', 'e', 'nbsp', 'babout', 'of', 'dead', 'addresses', 'b', 'fnobr', 'gt', 'b', 'some', 'mail', 'systems', 'receive', 'all', 'messages', 'and', 'only', 'then', 'see', 'their', 'nbsp', 'b', 'c', 'fnobr', 'e', 'c', 'ffont', 'e', 'c', 'fp', 'e', 'cp', 'e', 'cfont', 'face', 'darial', 'e', 'cnobr', 'eaddresses', 'and', 'if', 'the', 'address', 'is', 'dead', 'send', 'the', 'message', 'back', 'with', 'remark', 'about', 'it', 'e', 'c', 'fnobr', 'e', 'c', 'ffont', 'e', 'c', 'fp', 'e', 'cnobr', 'e', 'cp', 'e', 'ca', 'href', 'd', 'http', 'a', 'f', 'fwww', 'ewldinfo', 'ecom', 'fbj', 'fdownload', 'fbemv', 'fset', 'ezip', 'e', 'cstrong', 'e', 'cfont', 'face', 'darial', 'size', 'd', 'edownload', 'now', 'c', 'ffont', 'e', 'c', 'fstrong', 'e', 'c', 'fa', 'e', 'c', 'fp', 'e', 'cp', 'e', 'cstrong', 'e', 'cfont', 'color', 'd', 'ff', 'face', 'darial', 'size', 'd', 'eexpress', 'email', 'blaster', 'nbsp', 'b', 'c', 'ffont', 'e', 'c', 'fstrong', 'e', 'c', 'fp', 'e', 'cp', 'e', 'cfont', 'face', 'darial', 'eexpress', 'email', 'blaster', 'nbsp', 'b', 'is', 'a', 'very', 'fast', 'c', 'powerful', 'yet', 'simple', 'to', 'use', 'email', 'sender', 'e', 'utilizing', 'multiple', 'threads', 'fconnections', 'c', 'ffont', 'e', 'c', 'fp', 'e', 'cp', 'e', 'cfont', 'face', 'darial', 'e', 'nbsp', 'band', 'multiple', 'smtp', 'servers', 'your', 'emails', 'will', 'be', 'sent', 'out', 'fast', 'and', 'easily', 'e', 'there', 'are', 'user', 'information', 'c', 'attach', 'files', 'c', 'nbsp', 'b', 'c', 'ffont', 'e', 'c', 'fp', 'e', 'cp', 'e', 'cfont', 'face', 'darial', 'eaddress', 'and', 'mail', 'logs', 'four', 'tabbed', 'area', 'for', 'the', 'e', 'mails', 'details', 'for', 'sending', 'e', 'about', 'smtp', 'servers', 'come', 'with', 'the', 'nbsp', 'b', 'c', 'ffont', 'e', 'c', 'fp', 'e', 'cp', 'e', 'cfont', 'face', 'darial', 'edemo', 'version', 'c', 'and', 'users', 'may', 'add', 'and', 'delete', 'smtp', 'servers', 'e', 'about', 'cfont', 'color', 'd', 'e', 'cb', 'e', 'c', 'c', 'fb', 'e', 'c', 'ffont', 'e', 'e', 'mails', 'will', 'be', 'sent', 'out', 'per', 'hour', 'e', 'c', 'ffont', 'e', 'c', 'fp', 'e', 'cp', 'e', 'cstrong', 'e', 'ca', 'href', 'd', 'http', 'a', 'f', 'fwww', 'ewldinfo', 'ecom', 'fbj', 'fdownload', 'fbeeb', 'fset', 'ezip', 'e', 'cfont', 'face', 'darial', 'size', 'd', 'edownload', 'now', 'c', 'ffont', 'e', 'c', 'fa', 'e', 'c', 'fstrong', 'e', 'c', 'fp', 'e', 'cp', 'e', 'cstrong', 'e', 'cfont', 'color', 'd', 'ff', 'face', 'darial', 'size', 'd', 'eexpress', 'email', 'address', 'extractor', 'c', 'ffont', 'e', 'c', 'fstrong', 'e', 'c', 'fp', 'e', 'cfont', 'size', 'd', 'e', 'cp', 'e', 'cfont', 'color', 'd', 'size', 'd', 'ethis', 'program', 'is', 'the', 'most', 'efficient', 'c', 'easy', 'to', 'use', 'email', 'address', 'collector', 'available', 'on', 'the', 'c', 'ffont', 'e', 'c', 'fp', 'e', 'cp', 'e', 'cfont', 'face', 'darial', 'e', 'cfont', 'color', 'd', 'size', 'd', 'e', 'nbsp', 'binternet', 'c', 'ffont', 'e', 'cfont', 'color', 'd', 'size', 'd', 'ebeijing', 'express', 'email', 'address', 'extractor', 'expresseae', 'is', 'designed', 'to', 'extract', 'c', 'ffont', 'e', 'c', 'ffont', 'e', 'c', 'fp', 'e', 'cp', 'e', 'cfont', 'color', 'd', 'size', 'd', 'e', 'nbsp', 'be', 'mail', 'addresses', 'from', 'web', 'pages', 'on', 'the', 'internet', 'using', 'http', 'protocols', 'eexpresseae', 'c', 'ffont', 'e', 'c', 'fp', 'e', 'cp', 'e', 'cfont', 'color', 'd', 'size', 'd', 'e', 'nbsp', 'bsupports', 'operation', 'through', 'many', 'proxy', 'server', 'and', 'works', 'very', 'fast', 'c', 'as', 'it', 'is', 'able', 'of', 'nbsp', 'b', 'c', 'ffont', 'e', 'c', 'fp', 'e', 'cp', 'e', 'cfont', 'color', 'd', 'size', 'd', 'eloading', 'several', 'pages', 'simultaneously', 'c', 'and', 'requires', 'very', 'few', 'resources', 'e', 'c', 'ffont', 'e', 'c', 'fp', 'e', 'cp', 'e', 'cfont', 'color', 'd', 'face', 'darial', 'e', 'cfont', 'size', 'd', 'ewith', 'it', 'c', 'you', 'will', 'be', 'able', 'to', 'c', 'ffont', 'e', 'cfont', 'size', 'd', 'e', 'c', 'ffont', 'e', 'cfont', 'size', 'd', 'euse', 'targeted', 'searches', 'to', 'crawl', 'the', 'world', 'wide', 'web', 'c', 'extracting', 'nbsp', 'b', 'c', 'ffont', 'e', 'c', 'ffont', 'e', 'cp', 'e', 'cfont', 'color', 'd', 'face', 'darial', 'size', 'd', 'ethousands', 'of', 'clean', 'c', 'fresh', 'email', 'addresses', 'e', 'ably', 'email', 'address', 'extractor', 'is', 'unlike', 'other', 'nbsp', 'b', 'c', 'ffont', 'e', 'cp', 'e', 'cfont', 'color', 'd', 'face', 'darial', 'size', 'd', 'eaddress', 'collecting', 'programs', 'c', 'which', 'limit', 'you', 'to', 'one', 'or', 'two', 'search', 'engines', 'and', 'are', 'unable', 'c', 'ffont', 'e', 'cp', 'e', 'cfont', 'color', 'd', 'face', 'darial', 'size', 'd', 'e', 'nbsp', 'bto', 'do', 'auto', 'searches', 'huge', 'address', 'e', 'most', 'of', 'them', 'collect', 'a', 'high', 'percentage', 'of', 'incomplete', 'c', 'nbsp', 'b', 'c', 'ffont', 'e', 'cp', 'e', 'cfont', 'color', 'd', 'face', 'darial', 'size', 'd', 'eunusable', 'addresses', 'which', 'will', 'cause', 'you', 'serious', 'problems', 'when', 'using', 'them', 'in', 'a', 'mailing', 'e', 'nbsp', 'b', 'c', 'ffont', 'e', 'cul', 'e', 'cli', 'e', 'cfont', 'color', 'd', 'face', 'darial', 'size', 'd', 'eeasier', 'to', 'learn', 'and', 'use', 'than', 'any', 'other', 'email', 'address', 'collector', 'program', 'available', 'e', 'c', 'ffont', 'e', 'cli', 'e', 'cfont', 'color', 'd', 'face', 'darial', 'size', 'd', 'eaccesses', 'eight', 'search', 'engines', 'nbsp', 'b', 'c', 'ffont', 'e', 'cli', 'e', 'cfont', 'color', 'd', 'face', 'darial', 'size', 'd', 'eadd', 'your', 'own', 'urls', 'to', 'the', 'list', 'to', 'be', 'searched', 'c', 'ffont', 'e', 'cli', 'e', 'cfont', 'face', 'darial', 'size', 'd', 'e', 'cfont', 'color', 'd', 'esupports', 'operation', 'through', 'c', 'ffont', 'e', 'cfont', 'color', 'd', 'ff', 'ff', 'ea', 'lot', 'of', 'c', 'ffont', 'e', 'cfont', 'color', 'd', 'e', 'proxy', 'server', 'and', 'works', 'very', 'fast', 'http', 'proxy', 'c', 'ffont', 'e', 'c', 'ffont', 'e', 'cli', 'e', 'cfont', 'color', 'd', 'face', 'darial', 'size', 'd', 'eable', 'of', 'loading', 'several', 'pages', 'simultaneously', 'c', 'ffont', 'e', 'cli', 'e', 'cfont', 'color', 'd', 'face', 'darial', 'size', 'd', 'erequires', 'very', 'few', 'resources', 'c', 'ffont', 'e', 'cli', 'e', 'cfont', 'color', 'd', 'face', 'darial', 'size', 'd', 'etimeout', 'feature', 'allows', 'user', 'to', 'limit', 'the', 'amount', 'of', 'time', 'crawling', 'in', 'dead', 'sites', 'and', 'traps', 'e', 'c', 'ffont', 'e', 'cli', 'e', 'cfont', 'face', 'darial', 'size', 'd', 'e', 'cfont', 'color', 'd', 'eeasy', 'to', 'make', 'c', 'ffont', 'e', 'cfont', 'color', 'd', 'ff', 'ff', 'ehuge', 'c', 'ffont', 'e', 'cfont', 'color', 'd', 'e', 'address', 'list', 'c', 'ffont', 'e', 'c', 'ffont', 'e', 'cli', 'e', 'cfont', 'color', 'd', 'face', 'darial', 'size', 'd', 'epause', 'fcontinue', 'extraction', 'at', 'any', 'time', 'e', 'c', 'ffont', 'e', 'cli', 'e', 'cfont', 'color', 'd', 'face', 'darial', 'size', 'd', 'eauto', 'connection', 'to', 'the', 'internet', 'c', 'ffont', 'e', 'c', 'fli', 'e', 'c', 'ful', 'e', 'cdiv', 'e', 'cstrong', 'e', 'ca', 'href', 'd', 'http', 'a', 'f', 'fwww', 'ewldinfo', 'ecom', 'fbj', 'fdownload', 'feeae', 'fset', 'ezip', 'e', 'cfont', 'color', 'd', 'face', 'darial', 'size', 'd', 'edownload', 'now', 'c', 'ffont', 'e', 'c', 'fa', 'e', 'c', 'fstrong', 'e', 'c', 'fdiv', 'e', 'cdiv', 'e', 'cstrong', 'e', 'cfont', 'color', 'd', 'ff', 'face', 'darial', 'eexpress', 'email', 'address', 'downloader', 'c', 'ffont', 'e', 'c', 'fstrong', 'e', 'c', 'fdiv', 'e', 'cul', 'e', 'cli', 'e', 'cfont', 'face', 'darial', 'e', 'cstrong', 'e', 'cfont', 'color', 'd', 'size', 'd', 'eexpressead', 'nbsp', 'b', 'c', 'ffont', 'e', 'cfont', 'color', 'd', 'size', 'd', 'eis', 'a', 'bit', 'windows', 'program', 'for', 'e', 'mail', 'marketing', 'e', 'it', 'is', 'intended', 'for', 'easy', 'and', 'convenient', 'c', 'ffont', 'e', 'c', 'fstrong', 'e', 'c', 'ffont', 'e', 'cli', 'e', 'cfont', 'face', 'darial', 'e', 'cstrong', 'e', 'cfont', 'color', 'd', 'size', 'd', 'e', 'nbsp', 'bsearch', 'large', 'e', 'mail', 'address', 'lists', 'from', 'mail', 'servers', 'e', 'the', 'program', 'can', 'be', 'operated', 'on', 'nbsp', 'b', 'c', 'ffont', 'e', 'c', 'fstrong', 'e', 'c', 'ffont', 'e', 'cli', 'e', 'cfont', 'face', 'darial', 'e', 'cstrong', 'e', 'cfont', 'color', 'd', 'size', 'd', 'ewindows', 'f', 'fme', 'f', 'and', 'nt', 'e', 'c', 'ffont', 'e', 'c', 'fstrong', 'e', 'c', 'ffont', 'e', 'cli', 'e', 'cfont', 'face', 'darial', 'e', 'cstrong', 'e', 'cfont', 'color', 'd', 'size', 'd', 'eexpressead', 'nbsp', 'b', 'c', 'ffont', 'e', 'cfont', 'color', 'd', 'size', 'd', 'esupport', 'multi', 'threads', 'up', 'to', 'connections', 'e', 'c', 'ffont', 'e', 'c', 'fstrong', 'e', 'c', 'ffont', 'e', 'cli', 'e', 'cfont', 'face', 'darial', 'e', 'cstrong', 'e', 'cfont', 'color', 'd', 'size', 'd', 'eexpressead', 'nbsp', 'b', 'c', 'ffont', 'e', 'cfont', 'color', 'd', 'size', 'd', 'ehas', 'the', 'ability', 'nbsp', 'b', 'to', 'reconnect', 'to', 'the', 'mail', 'server', 'if', 'the', 'server', 'has', 'disconnected', 'and', 'nbsp', 'b', 'c', 'ffont', 'e', 'c', 'fstrong', 'e', 'c', 'ffont', 'e', 'cli', 'e', 'cfont', 'face', 'darial', 'e', 'cstrong', 'e', 'cfont', 'color', 'd', 'size', 'd', 'econtinue', 'the', 'searching', 'at', 'the', 'point', 'where', 'it', 'has', 'been', 'interrupted', 'e', 'c', 'ffont', 'e', 'c', 'fstrong', 'e', 'c', 'ffont', 'e', 'cli', 'e', 'cfont', 'face', 'darial', 'e', 'cstrong', 'e', 'cfont', 'color', 'd', 'size', 'd', 'eexpressead', 'nbsp', 'b', 'c', 'ffont', 'e', 'cfont', 'color', 'd', 'size', 'd', 'ehas', 'an', 'ergonomic', 'interface', 'that', 'is', 'easy', 'to', 'set', 'up', 'and', 'simple', 'to', 'use', 'e', 'c', 'ffont', 'e', 'c', 'fstrong', 'e', 'c', 'ffont', 'e', 'c', 'fli', 'e', 'c', 'ful', 'e', 'cdiv', 'e', 'cfont', 'face', 'darial', 'e', 'nbsp', 'b', 'c', 'ffont', 'e', 'c', 'fdiv', 'e', 'cp', 'e', 'cfont', 'face', 'darial', 'e', 'cstrong', 'e', 'cfont', 'color', 'd', 'face', 'darial', 'size', 'd', 'efeatures', 'a', 'c', 'ffont', 'e', 'c', 'fstrong', 'e', 'c', 'ffont', 'e', 'cul', 'type', 'ddisc', 'e', 'cli', 'e', 'cfont', 'face', 'darial', 'e', 'cstrong', 'e', 'cfont', 'face', 'darial', 'size', 'd', 'esupport', 'multi', 'threads', 'e', 'c', 'ffont', 'e', 'c', 'fstrong', 'e', 'c', 'ffont', 'e', 'cli', 'e', 'cfont', 'face', 'darial', 'e', 'cstrong', 'e', 'cfont', 'face', 'darial', 'size', 'd', 'eauto', 'get', 'smtp', 'server', 'address', 'csupport', 'multi', 'smtp', 'servers', 'e', 'c', 'ffont', 'e', 'c', 'fstrong', 'e', 'c', 'ffont', 'e', 'cli', 'e', 'cfont', 'face', 'darial', 'e', 'cstrong', 'e', 'cfont', 'face', 'darial', 'size', 'd', 'eauto', 'save', 'nbsp', 'b', 'e', 'mail', 'lists', 'c', 'ffont', 'e', 'c', 'fstrong', 'e', 'c', 'ffont', 'e', 'cli', 'e', 'cfont', 'face', 'darial', 'e', 'cstrong', 'e', 'cfont', 'face', 'darial', 'size', 'd', 'eoffers', 'an', 'easy', 'to', 'use', 'interface', 'c', 'ffont', 'e', 'c', 'fstrong', 'e', 'c', 'ffont', 'e', 'c', 'fli', 'e', 'c', 'ful', 'e', 'cdiv', 'e', 'cstrong', 'e', 'ca', 'href', 'd', 'http', 'a', 'f', 'fwww', 'ewldinfo', 'ecom', 'fbj', 'fdownload', 'feead', 'fset', 'ezip', 'e', 'cfont', 'color', 'd', 'face', 'darial', 'size', 'd', 'edownload', 'now', 'c', 'ffont', 'e', 'c', 'fa', 'e', 'c', 'fstrong', 'e', 'c', 'fdiv', 'e', 'cdiv', 'e', 'cfont', 'face', 'darial', 'e', 'nbsp', 'b', 'c', 'ffont', 'e', 'c', 'fdiv', 'e', 'cdiv', 'e', 'cstrong', 'e', 'cfont', 'color', 'd', 'ff', 'face', 'darial', 'eexpress', 'maillist', 'manager', 'c', 'ffont', 'e', 'c', 'fstrong', 'e', 'c', 'fdiv', 'e', 'cdiv', 'e', 'cfont', 'face', 'darial', 'e', 'nbsp', 'b', 'c', 'ffont', 'e', 'c', 'fdiv', 'e', 'cdiv', 'e', 'cfont', 'size', 'd', 'e', 'cp', 'e', 'cfont', 'face', 'darial', 'e', 'cfont', 'color', 'dblack', 'size', 'd', 'ethis', 'program', 'was', 'designed', 'to', 'be', 'a', 'complement', 'to', 'the', 'c', 'ffont', 'e', 'cfont', 'color', 'd', 'size', 'd', 'edirect', 'email', 'blaster', 'nbsp', 'b', 'c', 'ffont', 'e', 'cfont', 'color', 'dblack', 'size', 'd', 'eand', 'c', 'ffont', 'e', 'cfont', 'color', 'd', 'size', 'd', 'eemail', 'blaster', 'c', 'ffont', 'e', 'c', 'ffont', 'e', 'c', 'fp', 'e', 'cp', 'e', 'cfont', 'face', 'darial', 'e', 'cfont', 'color', 'dblack', 'size', 'd', 'esuite', 'of', 'bulk', 'email', 'software', 'programs', 'e', 'its', 'purpose', 'is', 'to', 'organize', 'your', 'email', 'lists', 'in', 'order', 'to', 'be', 'more', 'nbsp', 'b', 'c', 'ffont', 'e', 'c', 'ffont', 'e', 'c', 'fp', 'e', 'cp', 'e', 'cfont', 'face', 'darial', 'e', 'cfont', 'color', 'dblack', 'size', 'd', 'eeffective', 'with', 'your', 'email', 'marketing', 'campaign', 'e', 'some', 'of', 'its', 'features', 'include', 'a', 'c', 'ffont', 'e', 'c', 'ffont', 'e', 'c', 'fp', 'e', 'cp', 'e', 'cb', 'e', 'cfont', 'color', 'd', 'face', 'darial', 'e', 'cfont', 'size', 'd', 'e', 'bcombine', 'several', 'lists', 'into', 'one', 'file', 'e', 'c', 'ffont', 'e', 'cbr', 'e', 'cfont', 'size', 'd', 'e', 'bsplit', 'up', 'larger', 'lists', 'to', 'make', 'them', 'more', 'manageable', 'e', 'c', 'ffont', 'e', 'cbr', 'e', 'cfont', 'size', 'd', 'e', 'bremove', 'addresses', 'from', 'file', 'e', 'c', 'ffont', 'e', 'cbr', 'e', 'cfont', 'size', 'd', 'e', 'bmanual', 'editing', 'c', 'adding', 'c', 'and', 'deleting', 'of', 'addresses', 'e', 'c', 'ffont', 'e', 'cbr', 'e', 'cfont', 'size', 'd', 'e', 'bability', 'to', 'auto', 'clean', 'lists', 'c', 'that', 'is', 'c', 'remove', 'any', 'duplicate', 'or', 'unwanted', 'addresses', 'e', 'c', 'ffont', 'e', 'cbr', 'e', 'cfont', 'size', 'd', 'e', 'bmaintain', 'all', 'your', 'address', 'lists', 'within', 'the', 'program', 'so', 'you', 'no', 'nbsp', 'b', 'longer', 'need', 'to', 'keep', 'all', 'your', 'c', 'ffont', 'e', 'c', 'ffont', 'e', 'c', 'fb', 'e', 'c', 'fp', 'e', 'cp', 'e', 'cb', 'e', 'cfont', 'color', 'd', 'face', 'darial', 'size', 'd', 'e', 'nbsp', 'blists', 'saved', 'as', 'separate', 'text', 'files', 'e', 'c', 'ffont', 'e', 'c', 'fb', 'e', 'c', 'fp', 'e', 'cp', 'e', 'cstrong', 'e', 'ca', 'href', 'd', 'http', 'a', 'f', 'fwww', 'ewldinfo', 'ecom', 'fbj', 'fdownload', 'fbemm', 'fset', 'ezip', 'e', 'cfont', 'color', 'd', 'face', 'darial', 'size', 'd', 'edownload', 'now', 'c', 'ffont', 'e', 'c', 'fa', 'e', 'c', 'fstrong', 'e', 'c', 'fp', 'e', 'cp', 'e', 'cfont', 'face', 'darial', 'e', 'nbsp', 'b', 'c', 'ffont', 'e', 'c', 'fp', 'e', 'cp', 'e', 'nbsp', 'b', 'c', 'fp', 'e', 'cdiv', 'e', 'cfont', 'face', 'darial', 'eif', 'you', 'want', 'to', 'remove', 'your', 'email', 'c', 'please', 'send', 'email', 'to', 'ca', 'href', 'd', 'mailto', 'atargetemailremoval', 'btamail', 'enet', 'ecn', 'etargetemailremoval', 'btamail', 'enet', 'ecn', 'c', 'fa', 'e', 'c', 'ffont', 'e', 'c', 'fdiv', 'e', 'cdiv', 'e', 'cfont', 'face', 'darial', 'e', 'nbsp', 'b', 'c', 'ffont', 'e', 'c', 'fdiv', 'e', 'cdiv', 'e', 'cfont', 'face', 'darial', 'e', 'nbsp', 'b', 'c', 'ffont', 'e', 'c', 'fdiv', 'e', 'cdiv', 'e', 'nbsp', 'b', 'c', 'fdiv', 'e', 'c', 'ffont', 'e', 'c', 'fdiv', 'e', 'c', 'ffont', 'e', 'c', 'fnobr', 'e', 'c', 'ffont', 'e', 'c', 'ffont', 'e', 'c', 'fdiv', 'e', 'this', 'sf', 'net', 'email', 'is', 'sponsored', 'by', 'thinkgeek', 'welcome', 'to', 'geek', 'heaven', 'http', 'thinkgeek', 'com', 'sf', 'webmake', 'talk', 'mailing', 'list', 'webmake', 'talk', 'lists', 'sourceforge', 'net', 'https', 'lists', 'sourceforge', 'net', 'lists', 'listinfo', 'webmake', 'talk'])].\nReshape your data either using array.reshape(-1, 1) if your data has a single feature or array.reshape(1, -1) if it contains a single sample.",
     "output_type": "error",
     "traceback": [
      "\u001b[1;31m---------------------------------------------------------------------------\u001b[0m",
      "\u001b[1;31mValueError\u001b[0m                                Traceback (most recent call last)",
      "\u001b[1;32m~\\AppData\\Local\\Temp/ipykernel_18132/3463133779.py\u001b[0m in \u001b[0;36m<module>\u001b[1;34m\u001b[0m\n\u001b[0;32m      1\u001b[0m \u001b[1;32mfrom\u001b[0m \u001b[0msklearn\u001b[0m\u001b[1;33m.\u001b[0m\u001b[0mmetrics\u001b[0m \u001b[1;32mimport\u001b[0m \u001b[0maccuracy_score\u001b[0m\u001b[1;33m\u001b[0m\u001b[1;33m\u001b[0m\u001b[0m\n\u001b[0;32m      2\u001b[0m \u001b[1;31m# Fit the pipeline on the training data\u001b[0m\u001b[1;33m\u001b[0m\u001b[1;33m\u001b[0m\u001b[1;33m\u001b[0m\u001b[0m\n\u001b[1;32m----> 3\u001b[1;33m \u001b[0mpipeline\u001b[0m\u001b[1;33m.\u001b[0m\u001b[0mfit\u001b[0m\u001b[1;33m(\u001b[0m\u001b[0mX_train\u001b[0m\u001b[1;33m,\u001b[0m \u001b[0my_train\u001b[0m\u001b[1;33m)\u001b[0m\u001b[1;33m\u001b[0m\u001b[1;33m\u001b[0m\u001b[0m\n\u001b[0m\u001b[0;32m      4\u001b[0m \u001b[0mprint\u001b[0m\u001b[1;33m(\u001b[0m\u001b[0mX_train\u001b[0m\u001b[1;33m.\u001b[0m\u001b[0mshape\u001b[0m\u001b[1;33m,\u001b[0m \u001b[0my_train\u001b[0m\u001b[1;33m.\u001b[0m\u001b[0mshape\u001b[0m\u001b[1;33m)\u001b[0m\u001b[1;33m\u001b[0m\u001b[1;33m\u001b[0m\u001b[0m\n\u001b[0;32m      5\u001b[0m \u001b[1;33m\u001b[0m\u001b[0m\n",
      "\u001b[1;32mD:\\Prog\\Anaconda\\envs\\kaggle_v0\\lib\\site-packages\\sklearn\\pipeline.py\u001b[0m in \u001b[0;36mfit\u001b[1;34m(self, X, y, **fit_params)\u001b[0m\n\u001b[0;32m    339\u001b[0m         \"\"\"\n\u001b[0;32m    340\u001b[0m         \u001b[0mfit_params_steps\u001b[0m \u001b[1;33m=\u001b[0m \u001b[0mself\u001b[0m\u001b[1;33m.\u001b[0m\u001b[0m_check_fit_params\u001b[0m\u001b[1;33m(\u001b[0m\u001b[1;33m**\u001b[0m\u001b[0mfit_params\u001b[0m\u001b[1;33m)\u001b[0m\u001b[1;33m\u001b[0m\u001b[1;33m\u001b[0m\u001b[0m\n\u001b[1;32m--> 341\u001b[1;33m         \u001b[0mXt\u001b[0m \u001b[1;33m=\u001b[0m \u001b[0mself\u001b[0m\u001b[1;33m.\u001b[0m\u001b[0m_fit\u001b[0m\u001b[1;33m(\u001b[0m\u001b[0mX\u001b[0m\u001b[1;33m,\u001b[0m \u001b[0my\u001b[0m\u001b[1;33m,\u001b[0m \u001b[1;33m**\u001b[0m\u001b[0mfit_params_steps\u001b[0m\u001b[1;33m)\u001b[0m\u001b[1;33m\u001b[0m\u001b[1;33m\u001b[0m\u001b[0m\n\u001b[0m\u001b[0;32m    342\u001b[0m         with _print_elapsed_time('Pipeline',\n\u001b[0;32m    343\u001b[0m                                  self._log_message(len(self.steps) - 1)):\n",
      "\u001b[1;32mD:\\Prog\\Anaconda\\envs\\kaggle_v0\\lib\\site-packages\\sklearn\\pipeline.py\u001b[0m in \u001b[0;36m_fit\u001b[1;34m(self, X, y, **fit_params_steps)\u001b[0m\n\u001b[0;32m    301\u001b[0m                 \u001b[0mcloned_transformer\u001b[0m \u001b[1;33m=\u001b[0m \u001b[0mclone\u001b[0m\u001b[1;33m(\u001b[0m\u001b[0mtransformer\u001b[0m\u001b[1;33m)\u001b[0m\u001b[1;33m\u001b[0m\u001b[1;33m\u001b[0m\u001b[0m\n\u001b[0;32m    302\u001b[0m             \u001b[1;31m# Fit or load from cache the current transformer\u001b[0m\u001b[1;33m\u001b[0m\u001b[1;33m\u001b[0m\u001b[1;33m\u001b[0m\u001b[0m\n\u001b[1;32m--> 303\u001b[1;33m             X, fitted_transformer = fit_transform_one_cached(\n\u001b[0m\u001b[0;32m    304\u001b[0m                 \u001b[0mcloned_transformer\u001b[0m\u001b[1;33m,\u001b[0m \u001b[0mX\u001b[0m\u001b[1;33m,\u001b[0m \u001b[0my\u001b[0m\u001b[1;33m,\u001b[0m \u001b[1;32mNone\u001b[0m\u001b[1;33m,\u001b[0m\u001b[1;33m\u001b[0m\u001b[1;33m\u001b[0m\u001b[0m\n\u001b[0;32m    305\u001b[0m                 \u001b[0mmessage_clsname\u001b[0m\u001b[1;33m=\u001b[0m\u001b[1;34m'Pipeline'\u001b[0m\u001b[1;33m,\u001b[0m\u001b[1;33m\u001b[0m\u001b[1;33m\u001b[0m\u001b[0m\n",
      "\u001b[1;32mD:\\Prog\\Anaconda\\envs\\kaggle_v0\\lib\\site-packages\\joblib\\memory.py\u001b[0m in \u001b[0;36m__call__\u001b[1;34m(self, *args, **kwargs)\u001b[0m\n\u001b[0;32m    350\u001b[0m \u001b[1;33m\u001b[0m\u001b[0m\n\u001b[0;32m    351\u001b[0m     \u001b[1;32mdef\u001b[0m \u001b[0m__call__\u001b[0m\u001b[1;33m(\u001b[0m\u001b[0mself\u001b[0m\u001b[1;33m,\u001b[0m \u001b[1;33m*\u001b[0m\u001b[0margs\u001b[0m\u001b[1;33m,\u001b[0m \u001b[1;33m**\u001b[0m\u001b[0mkwargs\u001b[0m\u001b[1;33m)\u001b[0m\u001b[1;33m:\u001b[0m\u001b[1;33m\u001b[0m\u001b[1;33m\u001b[0m\u001b[0m\n\u001b[1;32m--> 352\u001b[1;33m         \u001b[1;32mreturn\u001b[0m \u001b[0mself\u001b[0m\u001b[1;33m.\u001b[0m\u001b[0mfunc\u001b[0m\u001b[1;33m(\u001b[0m\u001b[1;33m*\u001b[0m\u001b[0margs\u001b[0m\u001b[1;33m,\u001b[0m \u001b[1;33m**\u001b[0m\u001b[0mkwargs\u001b[0m\u001b[1;33m)\u001b[0m\u001b[1;33m\u001b[0m\u001b[1;33m\u001b[0m\u001b[0m\n\u001b[0m\u001b[0;32m    353\u001b[0m \u001b[1;33m\u001b[0m\u001b[0m\n\u001b[0;32m    354\u001b[0m     \u001b[1;32mdef\u001b[0m \u001b[0mcall_and_shelve\u001b[0m\u001b[1;33m(\u001b[0m\u001b[0mself\u001b[0m\u001b[1;33m,\u001b[0m \u001b[1;33m*\u001b[0m\u001b[0margs\u001b[0m\u001b[1;33m,\u001b[0m \u001b[1;33m**\u001b[0m\u001b[0mkwargs\u001b[0m\u001b[1;33m)\u001b[0m\u001b[1;33m:\u001b[0m\u001b[1;33m\u001b[0m\u001b[1;33m\u001b[0m\u001b[0m\n",
      "\u001b[1;32mD:\\Prog\\Anaconda\\envs\\kaggle_v0\\lib\\site-packages\\sklearn\\pipeline.py\u001b[0m in \u001b[0;36m_fit_transform_one\u001b[1;34m(transformer, X, y, weight, message_clsname, message, **fit_params)\u001b[0m\n\u001b[0;32m    752\u001b[0m     \u001b[1;32mwith\u001b[0m \u001b[0m_print_elapsed_time\u001b[0m\u001b[1;33m(\u001b[0m\u001b[0mmessage_clsname\u001b[0m\u001b[1;33m,\u001b[0m \u001b[0mmessage\u001b[0m\u001b[1;33m)\u001b[0m\u001b[1;33m:\u001b[0m\u001b[1;33m\u001b[0m\u001b[1;33m\u001b[0m\u001b[0m\n\u001b[0;32m    753\u001b[0m         \u001b[1;32mif\u001b[0m \u001b[0mhasattr\u001b[0m\u001b[1;33m(\u001b[0m\u001b[0mtransformer\u001b[0m\u001b[1;33m,\u001b[0m \u001b[1;34m'fit_transform'\u001b[0m\u001b[1;33m)\u001b[0m\u001b[1;33m:\u001b[0m\u001b[1;33m\u001b[0m\u001b[1;33m\u001b[0m\u001b[0m\n\u001b[1;32m--> 754\u001b[1;33m             \u001b[0mres\u001b[0m \u001b[1;33m=\u001b[0m \u001b[0mtransformer\u001b[0m\u001b[1;33m.\u001b[0m\u001b[0mfit_transform\u001b[0m\u001b[1;33m(\u001b[0m\u001b[0mX\u001b[0m\u001b[1;33m,\u001b[0m \u001b[0my\u001b[0m\u001b[1;33m,\u001b[0m \u001b[1;33m**\u001b[0m\u001b[0mfit_params\u001b[0m\u001b[1;33m)\u001b[0m\u001b[1;33m\u001b[0m\u001b[1;33m\u001b[0m\u001b[0m\n\u001b[0m\u001b[0;32m    755\u001b[0m         \u001b[1;32melse\u001b[0m\u001b[1;33m:\u001b[0m\u001b[1;33m\u001b[0m\u001b[1;33m\u001b[0m\u001b[0m\n\u001b[0;32m    756\u001b[0m             \u001b[0mres\u001b[0m \u001b[1;33m=\u001b[0m \u001b[0mtransformer\u001b[0m\u001b[1;33m.\u001b[0m\u001b[0mfit\u001b[0m\u001b[1;33m(\u001b[0m\u001b[0mX\u001b[0m\u001b[1;33m,\u001b[0m \u001b[0my\u001b[0m\u001b[1;33m,\u001b[0m \u001b[1;33m**\u001b[0m\u001b[0mfit_params\u001b[0m\u001b[1;33m)\u001b[0m\u001b[1;33m.\u001b[0m\u001b[0mtransform\u001b[0m\u001b[1;33m(\u001b[0m\u001b[0mX\u001b[0m\u001b[1;33m)\u001b[0m\u001b[1;33m\u001b[0m\u001b[1;33m\u001b[0m\u001b[0m\n",
      "\u001b[1;32mD:\\Prog\\Anaconda\\envs\\kaggle_v0\\lib\\site-packages\\sklearn\\pipeline.py\u001b[0m in \u001b[0;36mfit_transform\u001b[1;34m(self, X, y, **fit_params)\u001b[0m\n\u001b[0;32m    385\u001b[0m             \u001b[0mfit_params_last_step\u001b[0m \u001b[1;33m=\u001b[0m \u001b[0mfit_params_steps\u001b[0m\u001b[1;33m[\u001b[0m\u001b[0mself\u001b[0m\u001b[1;33m.\u001b[0m\u001b[0msteps\u001b[0m\u001b[1;33m[\u001b[0m\u001b[1;33m-\u001b[0m\u001b[1;36m1\u001b[0m\u001b[1;33m]\u001b[0m\u001b[1;33m[\u001b[0m\u001b[1;36m0\u001b[0m\u001b[1;33m]\u001b[0m\u001b[1;33m]\u001b[0m\u001b[1;33m\u001b[0m\u001b[1;33m\u001b[0m\u001b[0m\n\u001b[0;32m    386\u001b[0m             \u001b[1;32mif\u001b[0m \u001b[0mhasattr\u001b[0m\u001b[1;33m(\u001b[0m\u001b[0mlast_step\u001b[0m\u001b[1;33m,\u001b[0m \u001b[1;34m'fit_transform'\u001b[0m\u001b[1;33m)\u001b[0m\u001b[1;33m:\u001b[0m\u001b[1;33m\u001b[0m\u001b[1;33m\u001b[0m\u001b[0m\n\u001b[1;32m--> 387\u001b[1;33m                 \u001b[1;32mreturn\u001b[0m \u001b[0mlast_step\u001b[0m\u001b[1;33m.\u001b[0m\u001b[0mfit_transform\u001b[0m\u001b[1;33m(\u001b[0m\u001b[0mXt\u001b[0m\u001b[1;33m,\u001b[0m \u001b[0my\u001b[0m\u001b[1;33m,\u001b[0m \u001b[1;33m**\u001b[0m\u001b[0mfit_params_last_step\u001b[0m\u001b[1;33m)\u001b[0m\u001b[1;33m\u001b[0m\u001b[1;33m\u001b[0m\u001b[0m\n\u001b[0m\u001b[0;32m    388\u001b[0m             \u001b[1;32melse\u001b[0m\u001b[1;33m:\u001b[0m\u001b[1;33m\u001b[0m\u001b[1;33m\u001b[0m\u001b[0m\n\u001b[0;32m    389\u001b[0m                 return last_step.fit(Xt, y,\n",
      "\u001b[1;32mD:\\Prog\\Anaconda\\envs\\kaggle_v0\\lib\\site-packages\\sklearn\\preprocessing\\_encoders.py\u001b[0m in \u001b[0;36mfit_transform\u001b[1;34m(self, X, y)\u001b[0m\n\u001b[0;32m    449\u001b[0m         \"\"\"\n\u001b[0;32m    450\u001b[0m         \u001b[0mself\u001b[0m\u001b[1;33m.\u001b[0m\u001b[0m_validate_keywords\u001b[0m\u001b[1;33m(\u001b[0m\u001b[1;33m)\u001b[0m\u001b[1;33m\u001b[0m\u001b[1;33m\u001b[0m\u001b[0m\n\u001b[1;32m--> 451\u001b[1;33m         \u001b[1;32mreturn\u001b[0m \u001b[0msuper\u001b[0m\u001b[1;33m(\u001b[0m\u001b[1;33m)\u001b[0m\u001b[1;33m.\u001b[0m\u001b[0mfit_transform\u001b[0m\u001b[1;33m(\u001b[0m\u001b[0mX\u001b[0m\u001b[1;33m,\u001b[0m \u001b[0my\u001b[0m\u001b[1;33m)\u001b[0m\u001b[1;33m\u001b[0m\u001b[1;33m\u001b[0m\u001b[0m\n\u001b[0m\u001b[0;32m    452\u001b[0m \u001b[1;33m\u001b[0m\u001b[0m\n\u001b[0;32m    453\u001b[0m     \u001b[1;32mdef\u001b[0m \u001b[0mtransform\u001b[0m\u001b[1;33m(\u001b[0m\u001b[0mself\u001b[0m\u001b[1;33m,\u001b[0m \u001b[0mX\u001b[0m\u001b[1;33m)\u001b[0m\u001b[1;33m:\u001b[0m\u001b[1;33m\u001b[0m\u001b[1;33m\u001b[0m\u001b[0m\n",
      "\u001b[1;32mD:\\Prog\\Anaconda\\envs\\kaggle_v0\\lib\\site-packages\\sklearn\\base.py\u001b[0m in \u001b[0;36mfit_transform\u001b[1;34m(self, X, y, **fit_params)\u001b[0m\n\u001b[0;32m    700\u001b[0m         \u001b[1;32melse\u001b[0m\u001b[1;33m:\u001b[0m\u001b[1;33m\u001b[0m\u001b[1;33m\u001b[0m\u001b[0m\n\u001b[0;32m    701\u001b[0m             \u001b[1;31m# fit method of arity 2 (supervised transformation)\u001b[0m\u001b[1;33m\u001b[0m\u001b[1;33m\u001b[0m\u001b[1;33m\u001b[0m\u001b[0m\n\u001b[1;32m--> 702\u001b[1;33m             \u001b[1;32mreturn\u001b[0m \u001b[0mself\u001b[0m\u001b[1;33m.\u001b[0m\u001b[0mfit\u001b[0m\u001b[1;33m(\u001b[0m\u001b[0mX\u001b[0m\u001b[1;33m,\u001b[0m \u001b[0my\u001b[0m\u001b[1;33m,\u001b[0m \u001b[1;33m**\u001b[0m\u001b[0mfit_params\u001b[0m\u001b[1;33m)\u001b[0m\u001b[1;33m.\u001b[0m\u001b[0mtransform\u001b[0m\u001b[1;33m(\u001b[0m\u001b[0mX\u001b[0m\u001b[1;33m)\u001b[0m\u001b[1;33m\u001b[0m\u001b[1;33m\u001b[0m\u001b[0m\n\u001b[0m\u001b[0;32m    703\u001b[0m \u001b[1;33m\u001b[0m\u001b[0m\n\u001b[0;32m    704\u001b[0m \u001b[1;33m\u001b[0m\u001b[0m\n",
      "\u001b[1;32mD:\\Prog\\Anaconda\\envs\\kaggle_v0\\lib\\site-packages\\sklearn\\preprocessing\\_encoders.py\u001b[0m in \u001b[0;36mfit\u001b[1;34m(self, X, y)\u001b[0m\n\u001b[0;32m    421\u001b[0m         \"\"\"\n\u001b[0;32m    422\u001b[0m         \u001b[0mself\u001b[0m\u001b[1;33m.\u001b[0m\u001b[0m_validate_keywords\u001b[0m\u001b[1;33m(\u001b[0m\u001b[1;33m)\u001b[0m\u001b[1;33m\u001b[0m\u001b[1;33m\u001b[0m\u001b[0m\n\u001b[1;32m--> 423\u001b[1;33m         self._fit(X, handle_unknown=self.handle_unknown,\n\u001b[0m\u001b[0;32m    424\u001b[0m                   force_all_finite='allow-nan')\n\u001b[0;32m    425\u001b[0m         \u001b[0mself\u001b[0m\u001b[1;33m.\u001b[0m\u001b[0mdrop_idx_\u001b[0m \u001b[1;33m=\u001b[0m \u001b[0mself\u001b[0m\u001b[1;33m.\u001b[0m\u001b[0m_compute_drop_idx\u001b[0m\u001b[1;33m(\u001b[0m\u001b[1;33m)\u001b[0m\u001b[1;33m\u001b[0m\u001b[1;33m\u001b[0m\u001b[0m\n",
      "\u001b[1;32mD:\\Prog\\Anaconda\\envs\\kaggle_v0\\lib\\site-packages\\sklearn\\preprocessing\\_encoders.py\u001b[0m in \u001b[0;36m_fit\u001b[1;34m(self, X, handle_unknown, force_all_finite)\u001b[0m\n\u001b[0;32m     75\u001b[0m \u001b[1;33m\u001b[0m\u001b[0m\n\u001b[0;32m     76\u001b[0m     \u001b[1;32mdef\u001b[0m \u001b[0m_fit\u001b[0m\u001b[1;33m(\u001b[0m\u001b[0mself\u001b[0m\u001b[1;33m,\u001b[0m \u001b[0mX\u001b[0m\u001b[1;33m,\u001b[0m \u001b[0mhandle_unknown\u001b[0m\u001b[1;33m=\u001b[0m\u001b[1;34m'error'\u001b[0m\u001b[1;33m,\u001b[0m \u001b[0mforce_all_finite\u001b[0m\u001b[1;33m=\u001b[0m\u001b[1;32mTrue\u001b[0m\u001b[1;33m)\u001b[0m\u001b[1;33m:\u001b[0m\u001b[1;33m\u001b[0m\u001b[1;33m\u001b[0m\u001b[0m\n\u001b[1;32m---> 77\u001b[1;33m         X_list, n_samples, n_features = self._check_X(\n\u001b[0m\u001b[0;32m     78\u001b[0m             X, force_all_finite=force_all_finite)\n\u001b[0;32m     79\u001b[0m \u001b[1;33m\u001b[0m\u001b[0m\n",
      "\u001b[1;32mD:\\Prog\\Anaconda\\envs\\kaggle_v0\\lib\\site-packages\\sklearn\\preprocessing\\_encoders.py\u001b[0m in \u001b[0;36m_check_X\u001b[1;34m(self, X, force_all_finite)\u001b[0m\n\u001b[0;32m     42\u001b[0m         \u001b[1;32mif\u001b[0m \u001b[1;32mnot\u001b[0m \u001b[1;33m(\u001b[0m\u001b[0mhasattr\u001b[0m\u001b[1;33m(\u001b[0m\u001b[0mX\u001b[0m\u001b[1;33m,\u001b[0m \u001b[1;34m'iloc'\u001b[0m\u001b[1;33m)\u001b[0m \u001b[1;32mand\u001b[0m \u001b[0mgetattr\u001b[0m\u001b[1;33m(\u001b[0m\u001b[0mX\u001b[0m\u001b[1;33m,\u001b[0m \u001b[1;34m'ndim'\u001b[0m\u001b[1;33m,\u001b[0m \u001b[1;36m0\u001b[0m\u001b[1;33m)\u001b[0m \u001b[1;33m==\u001b[0m \u001b[1;36m2\u001b[0m\u001b[1;33m)\u001b[0m\u001b[1;33m:\u001b[0m\u001b[1;33m\u001b[0m\u001b[1;33m\u001b[0m\u001b[0m\n\u001b[0;32m     43\u001b[0m             \u001b[1;31m# if not a dataframe, do normal check_array validation\u001b[0m\u001b[1;33m\u001b[0m\u001b[1;33m\u001b[0m\u001b[1;33m\u001b[0m\u001b[0m\n\u001b[1;32m---> 44\u001b[1;33m             X_temp = check_array(X, dtype=None,\n\u001b[0m\u001b[0;32m     45\u001b[0m                                  force_all_finite=force_all_finite)\n\u001b[0;32m     46\u001b[0m             if (not hasattr(X, 'dtype')\n",
      "\u001b[1;32mD:\\Prog\\Anaconda\\envs\\kaggle_v0\\lib\\site-packages\\sklearn\\utils\\validation.py\u001b[0m in \u001b[0;36minner_f\u001b[1;34m(*args, **kwargs)\u001b[0m\n\u001b[0;32m     61\u001b[0m             \u001b[0mextra_args\u001b[0m \u001b[1;33m=\u001b[0m \u001b[0mlen\u001b[0m\u001b[1;33m(\u001b[0m\u001b[0margs\u001b[0m\u001b[1;33m)\u001b[0m \u001b[1;33m-\u001b[0m \u001b[0mlen\u001b[0m\u001b[1;33m(\u001b[0m\u001b[0mall_args\u001b[0m\u001b[1;33m)\u001b[0m\u001b[1;33m\u001b[0m\u001b[1;33m\u001b[0m\u001b[0m\n\u001b[0;32m     62\u001b[0m             \u001b[1;32mif\u001b[0m \u001b[0mextra_args\u001b[0m \u001b[1;33m<=\u001b[0m \u001b[1;36m0\u001b[0m\u001b[1;33m:\u001b[0m\u001b[1;33m\u001b[0m\u001b[1;33m\u001b[0m\u001b[0m\n\u001b[1;32m---> 63\u001b[1;33m                 \u001b[1;32mreturn\u001b[0m \u001b[0mf\u001b[0m\u001b[1;33m(\u001b[0m\u001b[1;33m*\u001b[0m\u001b[0margs\u001b[0m\u001b[1;33m,\u001b[0m \u001b[1;33m**\u001b[0m\u001b[0mkwargs\u001b[0m\u001b[1;33m)\u001b[0m\u001b[1;33m\u001b[0m\u001b[1;33m\u001b[0m\u001b[0m\n\u001b[0m\u001b[0;32m     64\u001b[0m \u001b[1;33m\u001b[0m\u001b[0m\n\u001b[0;32m     65\u001b[0m             \u001b[1;31m# extra_args > 0\u001b[0m\u001b[1;33m\u001b[0m\u001b[1;33m\u001b[0m\u001b[1;33m\u001b[0m\u001b[0m\n",
      "\u001b[1;32mD:\\Prog\\Anaconda\\envs\\kaggle_v0\\lib\\site-packages\\sklearn\\utils\\validation.py\u001b[0m in \u001b[0;36mcheck_array\u001b[1;34m(array, accept_sparse, accept_large_sparse, dtype, order, copy, force_all_finite, ensure_2d, allow_nd, ensure_min_samples, ensure_min_features, estimator)\u001b[0m\n\u001b[0;32m    692\u001b[0m             \u001b[1;31m# If input is 1D raise error\u001b[0m\u001b[1;33m\u001b[0m\u001b[1;33m\u001b[0m\u001b[1;33m\u001b[0m\u001b[0m\n\u001b[0;32m    693\u001b[0m             \u001b[1;32mif\u001b[0m \u001b[0marray\u001b[0m\u001b[1;33m.\u001b[0m\u001b[0mndim\u001b[0m \u001b[1;33m==\u001b[0m \u001b[1;36m1\u001b[0m\u001b[1;33m:\u001b[0m\u001b[1;33m\u001b[0m\u001b[1;33m\u001b[0m\u001b[0m\n\u001b[1;32m--> 694\u001b[1;33m                 raise ValueError(\n\u001b[0m\u001b[0;32m    695\u001b[0m                     \u001b[1;34m\"Expected 2D array, got 1D array instead:\\narray={}.\\n\"\u001b[0m\u001b[1;33m\u001b[0m\u001b[1;33m\u001b[0m\u001b[0m\n\u001b[0;32m    696\u001b[0m                     \u001b[1;34m\"Reshape your data either using array.reshape(-1, 1) if \"\u001b[0m\u001b[1;33m\u001b[0m\u001b[1;33m\u001b[0m\u001b[0m\n",
      "\u001b[1;31mValueError\u001b[0m: Expected 2D array, got 1D array instead:\narray=[list(['received', 'from', 'hawaii', 'ireaye', 'net', 'by', 'linux', 'midrange', 'com', 'with', 'esmtp', 'id', 'g', 'l', 'qh', 'for', 'gibbs', 'midrange', 'com', 'sat', 'jul', 'message', 'id', 'g', 'l', 'qh', 'linux', 'midrange', 'com', 'received', 'from', 'alabama', 'by', 'hawaii', 'ireaye', 'net', 'lsmtp', 'for', 'windows', 'nt', 'v', 'b', 'with', 'smtp', 'id', 'a', 'hawaii', 'ireaye', 'net', 'jul', 'date', 'sat', 'jul', 'from', 'callie', 'callie', 'dealsweeps', 'ireaye', 'net', 'subject', 'discover', 'platinum', 'clear', 'card', 'new', 'clear', 'design', 'to', 'gibbs', 'midrange', 'com', 'mime', 'version', 'content', 'type', 'text', 'html', 'x', 'status', 'x', 'keywords', 'doctype', 'html', 'public', 'w', 'c', 'dtd', 'html', 'transitional', 'en', 'meta', 'name', 'ad', 'content', 'ls', 'xi', 'cg', 'html', 'head', 'title', 'discover', 'reg', 'platinum', 'clear', 'card', 'title', 'head', 'map', 'name', 'apply', 'area', 'shape', 'rect', 'coords', 'href', 'http', 'www', 'dealsweeps', 'com', 'c', 'asp', 'lk', 'em', 'q', 'map', 'body', 'bgcolor', 'ffffff', 'img', 'src', 'http', 'img', 'freeze', 'com', 'hot', 'number', 'gif', 'width', 'height', 'usemap', 'apply', 'border', 'left', 'font', 'size', 'br', 'click', 'a', 'href', 'http', 'www', 'dealsweeps', 'com', 'c', 'asp', 'lk', 'em', 'q', 'here', 'a', 'to', 'see', 'information', 'about', 'the', 'apr', 'fees', 'and', 'other', 'important', 'information', 'font', 'disclaimer', 'br', 'center', 'table', 'width', 'border', 'cellspacing', 'cellpadding', 'align', 'center', 'tr', 'td', 'font', 'face', 'verdana', 'arial', 'helvetica', 'sans', 'serif', 'size', 'br', 'the', 'preceding', 'message', 'was', 'sent', 'to', 'you', 'as', 'an', 'opt', 'in', 'subscriber', 'to', 'dealsweeps', 'we', 'will', 'continue', 'to', 'bring', 'you', 'valuable', 'offers', 'on', 'the', 'products', 'and', 'services', 'that', 'interest', 'you', 'most', 'if', 'you', 'wish', 'to', 'unsubscribe', 'please', 'click', 'here', 'a', 'href', 'http', 'www', 'dealsweeps', 'com', 'remove', 'asp', 'e', 'gibbs', 'midrange', 'com', 'http', 'www', 'dealsweeps', 'com', 'remove', 'asp', 'e', 'gibbs', 'midrange', 'com', 'a', 'br', 'font', 'td', 'tr', 'table', 'img', 'src', 'http', 'www', 'dealsweeps', 'com', 'o', 'asp', 'sc', 'q', 'em', 'width', 'height', 'center', 'gibbs', 'midrange', 'com', 'disclaimer', 'body', 'html'])\n list(['from', 'fork', 'admin', 'xent', 'com', 'mon', 'sep', 'return', 'path', 'fork', 'admin', 'xent', 'com', 'delivered', 'to', 'yyyy', 'localhost', 'spamassassin', 'taint', 'org', 'received', 'from', 'localhost', 'jalapeno', 'by', 'jmason', 'org', 'postfix', 'with', 'esmtp', 'id', 'e', 'f', 'for', 'jm', 'localhost', 'mon', 'sep', 'ist', 'received', 'from', 'jalapeno', 'by', 'localhost', 'with', 'imap', 'fetchmail', 'for', 'jm', 'localhost', 'single', 'drop', 'mon', 'sep', 'ist', 'received', 'from', 'xent', 'com', 'by', 'dogma', 'slashnull', 'org', 'with', 'esmtp', 'id', 'g', 'nrcc', 'for', 'jm', 'jmason', 'org', 'mon', 'sep', 'received', 'from', 'lair', 'xent', 'com', 'localhost', 'by', 'xent', 'com', 'postfix', 'with', 'esmtp', 'id', 'd', 'c', 'sun', 'sep', 'pdt', 'delivered', 'to', 'fork', 'spamassassin', 'taint', 'org', 'received', 'from', 'panacea', 'canonical', 'org', 'ns', 'canonical', 'org', 'by', 'xent', 'com', 'postfix', 'with', 'esmtp', 'id', 'ee', 'c', 'for', 'fork', 'xent', 'com', 'sun', 'sep', 'pdt', 'received', 'by', 'panacea', 'canonical', 'org', 'postfix', 'from', 'userid', 'id', 'f', 'f', 'e', 'sun', 'sep', 'edt', 'from', 'kragen', 'pobox', 'com', 'kragen', 'sitaker', 'to', 'fork', 'spamassassin', 'taint', 'org', 'subject', 'earthviewer', 'was', 're', 'whoa', 'message', 'id', 'f', 'f', 'e', 'panacea', 'canonical', 'org', 'sender', 'fork', 'admin', 'xent', 'com', 'errors', 'to', 'fork', 'admin', 'xent', 'com', 'x', 'beenthere', 'fork', 'spamassassin', 'taint', 'org', 'x', 'mailman', 'version', 'precedence', 'bulk', 'list', 'help', 'mailto', 'fork', 'request', 'xent', 'com', 'subject', 'help', 'list', 'post', 'mailto', 'fork', 'spamassassin', 'taint', 'org', 'list', 'subscribe', 'http', 'xent', 'com', 'mailman', 'listinfo', 'fork', 'mailto', 'fork', 'request', 'xent', 'com', 'subject', 'subscribe', 'list', 'id', 'friends', 'of', 'rohit', 'khare', 'fork', 'xent', 'com', 'list', 'unsubscribe', 'http', 'xent', 'com', 'mailman', 'listinfo', 'fork', 'mailto', 'fork', 'request', 'xent', 'com', 'subject', 'unsubscribe', 'list', 'archive', 'http', 'xent', 'com', 'pipermail', 'fork', 'date', 'sun', 'sep', 'edt', 'on', 'am', 'gary', 'lawrence', 'murphy', 'garym', 'canada', 'com', 'wrote', 'j', 'if', 'you', 'want', 'a', 'region', 'of', 'the', 'globe', 'mapped', 'out', 'to', 'a', 'very', 'j', 'high', 'resolution', 'e', 'g', 'meter', 'they', 'can', 'scan', 'the', 'area', 'with', 'j', 'aircraft', 'lidar', 'and', 'add', 'it', 'to', 'the', 'database', 'thereby', 'making', 'that', 'j', 'region', 'zoomable', 'to', 'the', 'resolution', 'of', 'the', 'database', 'for', 'that', 'j', 'area', 'can', 'you', 'give', 'us', 'an', 'example', 'of', 'an', 'application', 'where', 'm', 'resolution', 'would', 'be', 'worth', 'the', 'considerable', 'expense', 'planning', 'battle', 'tactics', 'for', 'this', 'reason', 'the', 'intelligence', 'press', 'reports', 'spy', 'satellites', 'have', 'had', 'meter', 'resolution', 'for', 'many', 'years', 'finding', 'an', 'individual', 'vehicle', 'in', 'a', 'city', 'might', 'occasionally', 'be', 'possible', 'with', 'm', 'images', 'and', 'might', 'occasionally', 'also', 'be', 'worth', 'the', 'money', 'for', 'small', 'areas', 'you', 'have', 'legitimate', 'access', 'to', 'it', 's', 'probably', 'cheaper', 'to', 'go', 'there', 'with', 'a', 'digital', 'camera', 'and', 'a', 'gps', 'and', 'take', 'some', 'snapshots', 'from', 'ground', 'level', 'aerial', 'photos', 'might', 'be', 'cheaper', 'for', 'large', 'areas', 'areas', 'where', 'you', 're', 'not', 'allowed', 'or', 'perhaps', 'physically', 'able', 'to', 'go', 'and', 'cases', 'where', 'you', 'don', 't', 'have', 'time', 'to', 'send', 'a', 'ground', 'guy', 'around', 'the', 'whole', 'area', 'kragen', 'pobox', 'com', 'kragen', 'sitaker', 'http', 'www', 'pobox', 'com', 'kragen', 'edsger', 'wybe', 'dijkstra', 'died', 'in', 'august', 'of', 'the', 'world', 'has', 'lost', 'a', 'great', 'man', 'see', 'http', 'advogato', 'org', 'person', 'raph', 'diary', 'html', 'start', 'and', 'http', 'www', 'kode', 'fu', 'com', 'geek', 'archive', 'shtml', 'for', 'details'])\n list(['from', 'fork', 'admin', 'xent', 'com', 'sun', 'sep', 'return', 'path', 'fork', 'admin', 'xent', 'com', 'delivered', 'to', 'yyyy', 'localhost', 'spamassassin', 'taint', 'org', 'received', 'from', 'localhost', 'jalapeno', 'by', 'jmason', 'org', 'postfix', 'with', 'esmtp', 'id', 'c', 'bd', 'f', 'for', 'jm', 'localhost', 'sun', 'sep', 'ist', 'received', 'from', 'jalapeno', 'by', 'localhost', 'with', 'imap', 'fetchmail', 'for', 'jm', 'localhost', 'single', 'drop', 'sun', 'sep', 'ist', 'received', 'from', 'xent', 'com', 'by', 'dogma', 'slashnull', 'org', 'with', 'esmtp', 'id', 'g', 'mhgrc', 'for', 'jm', 'jmason', 'org', 'sun', 'sep', 'received', 'from', 'lair', 'xent', 'com', 'localhost', 'by', 'xent', 'com', 'postfix', 'with', 'esmtp', 'id', 'd', 'bb', 'sun', 'sep', 'pdt', 'delivered', 'to', 'fork', 'spamassassin', 'taint', 'org', 'received', 'from', 'jasper', 'he', 'net', 'jasper', 'he', 'net', 'by', 'xent', 'com', 'postfix', 'with', 'esmtp', 'id', 'f', 'dd', 'a', 'for', 'fork', 'xent', 'com', 'sun', 'sep', 'pdt', 'received', 'from', 'whump', 'com', 'sdsl', 'dsl', 'sjc', 'megapath', 'net', 'by', 'jasper', 'he', 'net', 'with', 'esmtp', 'id', 'kaa', 'sun', 'sep', 'subject', 're', 'flavor', 'cystals', 'content', 'type', 'text', 'plain', 'charset', 'us', 'ascii', 'format', 'flowed', 'mime', 'version', 'apple', 'message', 'framework', 'v', 'cc', 'fork', 'fork', 'spamassassin', 'taint', 'org', 'to', 'joseph', 's', 'barrera', 'iii', 'joe', 'barrera', 'org', 'from', 'bill', 'humphries', 'bill', 'whump', 'com', 'in', 'reply', 'to', 'd', 'd', 'c', 'b', 'barrera', 'org', 'message', 'id', 'efc', 'cd', 'ce', 'f', 'd', 'a', 'f', 'cd', 'whump', 'com', 'content', 'transfer', 'encoding', 'bit', 'x', 'mailer', 'apple', 'mail', 'sender', 'fork', 'admin', 'xent', 'com', 'errors', 'to', 'fork', 'admin', 'xent', 'com', 'x', 'beenthere', 'fork', 'spamassassin', 'taint', 'org', 'x', 'mailman', 'version', 'precedence', 'bulk', 'list', 'help', 'mailto', 'fork', 'request', 'xent', 'com', 'subject', 'help', 'list', 'post', 'mailto', 'fork', 'spamassassin', 'taint', 'org', 'list', 'subscribe', 'http', 'xent', 'com', 'mailman', 'listinfo', 'fork', 'mailto', 'fork', 'request', 'xent', 'com', 'subject', 'subscribe', 'list', 'id', 'friends', 'of', 'rohit', 'khare', 'fork', 'xent', 'com', 'list', 'unsubscribe', 'http', 'xent', 'com', 'mailman', 'listinfo', 'fork', 'mailto', 'fork', 'request', 'xent', 'com', 'subject', 'unsubscribe', 'list', 'archive', 'http', 'xent', 'com', 'pipermail', 'fork', 'date', 'sun', 'sep', 'on', 'saturday', 'september', 'at', 'pm', 'joseph', 's', 'barrera', 'iii', 'wrote', 'better', 'yet', 'tell', 'me', 'where', 'i', 'should', 'be', 'listening', 'for', 'new', 'music', 'now', 'that', 'p', 'p', 'is', 'dead', 'and', 'i', 'still', 'can', 't', 'pick', 'up', 'kfjc', 'very', 'well', 'kfjc', 'has', 'a', 'mp', 'stream', 'at', 'kfjc', 'org', 'i', 'd', 'also', 'recommend', 'radioparadise', 'com', 'i', 'remember', 'the', 'suburban', 'lawns', 'but', 'i', 'don', 't', 'know', 'what', 'became', 'of', 'them', 'apropos', 'of', 'nothing', 'spirited', 'away', 'is', 'amazing', 'go', 'see', 'it', 'now', 'whump'])\n ...\n list(['from', 'rssfeeds', 'jmason', 'org', 'thu', 'oct', 'return', 'path', 'rssfeeds', 'example', 'com', 'delivered', 'to', 'yyyy', 'localhost', 'example', 'com', 'received', 'from', 'localhost', 'jalapeno', 'by', 'jmason', 'org', 'postfix', 'with', 'esmtp', 'id', 'd', 'a', 'f', 'f', 'for', 'jm', 'localhost', 'thu', 'oct', 'ist', 'received', 'from', 'jalapeno', 'by', 'localhost', 'with', 'imap', 'fetchmail', 'for', 'jm', 'localhost', 'single', 'drop', 'thu', 'oct', 'ist', 'received', 'from', 'dogma', 'slashnull', 'org', 'localhost', 'by', 'dogma', 'slashnull', 'org', 'with', 'esmtp', 'id', 'g', 'k', 'for', 'jm', 'jmason', 'org', 'thu', 'oct', 'message', 'id', 'g', 'k', 'dogma', 'slashnull', 'org', 'to', 'yyyy', 'example', 'com', 'from', 'boingboing', 'rssfeeds', 'example', 'com', 'subject', 'comics', 'journal', 'interviews', 'ted', 'rall', 'date', 'thu', 'oct', 'content', 'type', 'text', 'plain', 'encoding', 'utf', 'x', 'spam', 'status', 'no', 'hits', 'required', 'tests', 'awl', 'spam', 'phrase', 'version', 'cvs', 'x', 'spam', 'level', 'url', 'http', 'boingboing', 'net', 'date', 'not', 'supplied', 'interview', 'with', 'cartoonist', 'ted', 'rall', 'who', 'has', 'traveled', 'to', 'south', 'asia', 'recently', 'and', 'has', 'tips', 'on', 'how', 'to', 'deal', 'with', 'bribe', 'hungry', 'border', 'guards', 'and', 'the', 'like', 'rall', 'now', 'i', 'realize', 'that', 's', 'just', 'the', 'way', 'it', 'is', 'and', 'i', 'know', 'how', 'to', 'do', 'it', 'and', 'get', 'away', 'without', 'paying', 'a', 'bribe', 'or', 'paying', 'something', 'very', 'modest', 'you', 'have', 'to', 'show', 'them', 'that', 'you', 'know', 'the', 'routine', 'and', 'that', 'you', 'know', 'you', 'don', 't', 'have', 'to', 'give', 'them', 'anything', 'and', 'just', 'have', 'a', 'low', 'key', 'demeanor', 'but', 'if', 'you', 'get', 'angry', 'that', 's', 'just', 'going', 'to', 'make', 'things', 'worse', 'for', 'you', 'you', 'get', 'out', 'of', 'your', 'vehicle', 'and', 'you', 'walk', 'up', 'to', 'them', 'you', 'don', 't', 'try', 'to', 'avoid', 'these', 'guys', 'you', 'don', 't', 'try', 'to', 'avoid', 'their', 'eyes', 'you', 'go', 'up', 'with', 'a', 'big', 'smile', 'give', 'them', 'a', 'big', 'handshake', 'and', 'sort', 'of', 'rub', 'their', 'shoulders', 'and', 'say', 'hey', 'great', 'to', 'see', 'you', 'you', 're', 'my', 'new', 'best', 'friend', 'for', 'the', 'next', 'five', 'minutes', 'groth', 'basically', 'act', 'like', 'a', 'used', 'car', 'salesman', 'rall', 'it', 's', 'exactly', 'like', 'that', 'you', 'always', 'carry', 'cigarettes', 'you', 'offer', 'them', 'a', 'cigarette', 'and', 'you', 'say', 'hey', 'what', 's', 'goin', 'on', 'how', 's', 'it', 'goin', 'great', 'here', 's', 'my', 'documents', 'how', 's', 'the', 'road', 'just', 'small', 'talk', 'because', 'these', 'guys', 'are', 'bored', 'they', 're', 'in', 'the', 'middle', 'of', 'nowhere', 'and', 'you', 're', 'sometimes', 'the', 'only', 'vehicle', 'they', 've', 'seen', 'for', 'many', 'hours', 'they', 're', 'often', 'very', 'drunk', 'so', 'you', 'just', 'have', 'to', 'be', 'cool', 'link', 'discuss', 'http', 'www', 'tcj', 'com', 'i', 'rall', 'html', 'http', 'www', 'quicktopic', 'com', 'h', 'de', 'bfpnmekg'])\n list(['from', 'fork', 'admin', 'xent', 'com', 'fri', 'sep', 'return', 'path', 'fork', 'admin', 'xent', 'com', 'delivered', 'to', 'yyyy', 'localhost', 'spamassassin', 'taint', 'org', 'received', 'from', 'localhost', 'jalapeno', 'by', 'jmason', 'org', 'postfix', 'with', 'esmtp', 'id', 'c', 'f', 'b', 'for', 'jm', 'localhost', 'fri', 'sep', 'ist', 'received', 'from', 'jalapeno', 'by', 'localhost', 'with', 'imap', 'fetchmail', 'for', 'jm', 'localhost', 'single', 'drop', 'fri', 'sep', 'ist', 'received', 'from', 'webnote', 'net', 'mail', 'webnote', 'net', 'by', 'dogma', 'slashnull', 'org', 'with', 'esmtp', 'id', 'g', 'gaw', 'for', 'jm', 'jmason', 'org', 'fri', 'sep', 'received', 'from', 'xent', 'com', 'by', 'webnote', 'net', 'with', 'esmtp', 'id', 'iaa', 'for', 'jm', 'jmason', 'org', 'fri', 'sep', 'received', 'from', 'lair', 'xent', 'com', 'localhost', 'by', 'xent', 'com', 'postfix', 'with', 'esmtp', 'id', 'daccf', 'b', 'fri', 'sep', 'pdt', 'delivered', 'to', 'fork', 'spamassassin', 'taint', 'org', 'received', 'from', 'isolnetsux', 'techmonkeys', 'net', 'isolnetsux', 'techmonkeys', 'net', 'by', 'xent', 'com', 'postfix', 'with', 'smtp', 'id', 'efa', 'f', 'for', 'fork', 'xent', 'com', 'fri', 'sep', 'pdt', 'received', 'qmail', 'invoked', 'by', 'uid', 'sep', 'received', 'from', 'localhost', 'sendmail', 'bs', 'by', 'localhost', 'with', 'smtp', 'sep', 'from', 'cdale', 'cdale', 'techmonkeys', 'net', 'to', 'bitbitch', 'magnesium', 'net', 'cc', 'adam', 'l', 'beberg', 'beberg', 'mithral', 'com', 'fork', 'spamassassin', 'taint', 'org', 'subject', 're', 'selling', 'wedded', 'bliss', 'was', 're', 'ouch', 'in', 'reply', 'to', 'magnesium', 'net', 'message', 'id', 'pine', 'lnx', 'isolnetsux', 'techmonkeys', 'net', 'mime', 'version', 'content', 'type', 'text', 'plain', 'charset', 'us', 'ascii', 'sender', 'fork', 'admin', 'xent', 'com', 'errors', 'to', 'fork', 'admin', 'xent', 'com', 'x', 'beenthere', 'fork', 'spamassassin', 'taint', 'org', 'x', 'mailman', 'version', 'precedence', 'bulk', 'list', 'help', 'mailto', 'fork', 'request', 'xent', 'com', 'subject', 'help', 'list', 'post', 'mailto', 'fork', 'spamassassin', 'taint', 'org', 'list', 'subscribe', 'http', 'xent', 'com', 'mailman', 'listinfo', 'fork', 'mailto', 'fork', 'request', 'xent', 'com', 'subject', 'subscribe', 'list', 'id', 'friends', 'of', 'rohit', 'khare', 'fork', 'xent', 'com', 'list', 'unsubscribe', 'http', 'xent', 'com', 'mailman', 'listinfo', 'fork', 'mailto', 'fork', 'request', 'xent', 'com', 'subject', 'unsubscribe', 'list', 'archive', 'http', 'xent', 'com', 'pipermail', 'fork', 'date', 'fri', 'sep', 'cdt', 'i', 'dunno', 'bb', 'women', 'who', 'like', 'to', 'be', 'thought', 'of', 'this', 'way', 'should', 'have', 'the', 'right', 'to', 'choose', 'to', 'be', 'treated', 'this', 'way', 'men', 'too', 'ahem', 'my', 'boy', 'cleans', 'washes', 'clothes', 'cooks', 'fixes', 'stuff', 'etc', 'and', 'works', 'the', 'same', 'number', 'of', 'hours', 'i', 'do', 'sometimes', 'more', 'if', 'he', 'has', 'to', 'catch', 'up', 'with', 'me', 'i', 'close', 'him', 'because', 'he', 'is', 'industrious', 'and', 'creative', 'and', 'because', 'he', 'unfailingly', 'makes', 'my', 'bed', 'the', 'minute', 'i', 'get', 'out', 'of', 'it', 'and', 'boy', 'will', 'be', 'here', 'soon', 'to', 'help', 'boy', 'with', 'other', 'things', 'such', 'as', 'pedicures', 'backrubs', 'and', 'sure', 'fucking', 'lol', 'along', 'with', 'the', 'aforementioned', 'chores', 'adam', 'can', 'have', 'his', 'cake', 'and', 'eat', 'it', 'too', 'if', 'he', 'can', 'only', 'find', 'the', 'right', 'girl', 'who', 'has', 'the', 'same', 'beliefs', 'about', 'gender', 'roles', 'that', 'he', 'has', 'of', 'course', 'he', 'has', 'no', 'clue', 'where', 'to', 'look', 'so', 'we', 'will', 'be', 'constantly', 'laughing', 'at', 'him', 'while', 'he', 'stumbles', 'around', 'in', 'the', 'dark', 'cindy', 'p', 's', 'the', 'numbers', 'do', 'not', 'in', 'any', 'way', 'indicate', 'importance', 'or', 'favor', 'only', 'the', 'order', 'in', 'which', 'they', 'move', 'into', 'my', 'house', 'smiles', 'at', 'chris', 'p', 's', 'i', 'm', 'moving', 'going', 'to', 'new', 'orleans', 'can', 't', 'handle', 'any', 'more', 'cab', 'driving', 'the', 'summer', 'sucked', 'here', 'on', 'the', 'ms', 'gulf', 'coast', 'instead', 'of', 'rocking', 'like', 'it', 'normally', 'does', 'wish', 'me', 'luck', 'i', 'm', 'going', 'to', 'look', 'for', 'another', 'computer', 'job', 'le', 'sigh', 'on', 'thu', 'sep', 'bitbitch', 'magnesium', 'net', 'wrote', 'hello', 'adam', 'thursday', 'september', 'pm', 'you', 'wrote', 'alb', 'so', 'you', 're', 'saying', 'that', 'product', 'bundling', 'works', 'good', 'point', 'sometimes', 'i', 'wish', 'i', 'was', 'still', 'in', 'ca', 'you', 'deserve', 'a', 'good', 'beating', 'every', 'so', 'often', 'anyone', 'else', 'want', 'to', 'do', 'the', 'honors', 'alb', 'and', 'how', 'is', 'this', 'any', 'different', 'from', 'normal', 'marriage', 'exactly', 'other', 'then', 'alb', 'that', 'the', 'woman', 'not', 'only', 'gets', 'a', 'man', 'but', 'one', 'in', 'a', 'country', 'where', 'both', 'she', 'and', 'alb', 'her', 'offspring', 'will', 'have', 'actual', 'opportunities', 'oh', 'and', 'the', 'lack', 'of', 'alb', 'de', 'feminized', 'over', 'sized', 'self', 'centered', 'mercenary', 'minded', 'choices', 'mmkay', 'for', 'the', 'nth', 'time', 'adam', 'we', 'don', 't', 'live', 'in', 'the', 'land', 'of', 'adam', 'fantasy', 'women', 'actually', 'are', 'allowed', 'to', 'do', 'things', 'productive', 'independent', 'and', 'entirely', 'free', 'of', 'their', 'male', 'counterparts', 'they', 'aren', 't', 'forced', 'to', 'cook', 'and', 'clean', 'and', 'merely', 'be', 'sexual', 'vessels', 'sometimes', 'and', 'this', 'will', 'come', 'as', 'a', 'shock', 'to', 'you', 'no', 'doubt', 'men', 'and', 'women', 'even', 'find', 'love', 'which', 'is', 'the', 'crucial', 'distinction', 'between', 'this', 'system', 'and', 'they', 'marry', 'one', 'another', 'for', 'the', 'satisfaction', 'of', 'being', 'together', 'i', 'know', 'far', 'fetched', 'and', 'idealistically', 'crazy', 'as', 'it', 'is', 'but', 'such', 'things', 'do', 'happen', 'i', 'can', 'guarantee', 'you', 'if', 'my', 'mother', 'was', 'approached', 'by', 'my', 'father', 'and', 'years', 'ago', 'he', 'commented', 'on', 'her', 'cleaning', 'ability', 'as', 'a', 'motivator', 'for', 'marrying', 'her', 'we', 'would', 'not', 'be', 'having', 'this', 'conversation', 'now', 'if', 'guys', 'still', 'have', 'silly', 'antequated', 'ideas', 'about', 'women', 's', 'role', 'then', 'their', 'opportunities', 'for', 'finding', 'women', 'will', 'be', 'scarce', 'again', 'these', 'situations', 'are', 'great', 'provided', 'everyone', 'is', 'aware', 'that', 'the', 'relationship', 'is', 'a', 'contractual', 'one', 'he', 'wants', 'a', 'maid', 'a', 'dog', 'and', 'a', 'prostitute', 'he', 'doesn', 't', 'have', 'to', 'pay', 'and', 'she', 'wants', 'a', 'country', 'that', 'isn', 't', 'impoverished', 'and', 'teeming', 'with', 'aids', 'a', 'contract', 'versus', 'a', 'true', 'love', 'interest', 'marriage', 'egh', 'i', 'really', 'need', 'to', 'stop', 'analyzing', 'your', 'posts', 'to', 'this', 'extent', 'i', 'blame', 'law', 'school', 'and', 'my', 'cat', 'bb', 'alb', 'adam', 'l', 'duncan', 'beberg', 'alb', 'http', 'www', 'mithral', 'com', 'beberg', 'alb', 'beberg', 'mithral', 'com', 'i', 'don', 't', 'take', 'no', 'stocks', 'in', 'mathematics', 'anyway', 'huckleberry', 'finn'])\n list(['from', 'webmake', 'talk', 'admin', 'lists', 'sourceforge', 'net', 'mon', 'jul', 'return', 'path', 'webmake', 'talk', 'admin', 'example', 'sourceforge', 'net', 'delivered', 'to', 'yyyy', 'localhost', 'netnoteinc', 'com', 'received', 'from', 'localhost', 'localhost', 'by', 'phobos', 'labs', 'netnoteinc', 'com', 'postfix', 'with', 'esmtp', 'id', 'fc', 'c', 'for', 'jm', 'localhost', 'mon', 'jul', 'edt', 'received', 'from', 'dogma', 'slashnull', 'org', 'by', 'localhost', 'with', 'imap', 'fetchmail', 'for', 'jm', 'localhost', 'single', 'drop', 'mon', 'jul', 'ist', 'received', 'from', 'webnote', 'net', 'mail', 'webnote', 'net', 'by', 'dogma', 'slashnull', 'org', 'with', 'esmtp', 'id', 'g', 'mg', 'py', 'for', 'jm', 'jmason', 'org', 'mon', 'jul', 'received', 'from', 'usw', 'sf', 'list', 'sourceforge', 'net', 'usw', 'sf', 'fw', 'sourceforge', 'net', 'by', 'webnote', 'net', 'with', 'esmtp', 'id', 'kaa', 'for', 'jm', 'jmason', 'org', 'sun', 'jul', 'received', 'from', 'usw', 'sf', 'list', 'b', 'sourceforge', 'net', 'helo', 'usw', 'sf', 'list', 'sourceforge', 'net', 'by', 'usw', 'sf', 'list', 'sourceforge', 'net', 'with', 'esmtp', 'exim', 'va', 'mm', 'debian', 'id', 'wcmw', 'zk', 'sun', 'jul', 'received', 'from', 'helo', 'localhost', 'com', 'by', 'usw', 'sf', 'list', 'sourceforge', 'net', 'with', 'smtp', 'exim', 'va', 'mm', 'debian', 'id', 'wcmr', 'for', 'webmake', 'talk', 'lists', 'sourceforge', 'net', 'sun', 'jul', 'from', 'targetemailextractor', 'btamail', 'net', 'cn', 'reply', 'to', 'targetemailextractor', 'btamail', 'net', 'cn', 'to', 'webmake', 'talk', 'example', 'sourceforge', 'net', 'x', 'mailer', 'quicksender', 'mime', 'version', 'message', 'id', 'e', 'wcmr', 'usw', 'sf', 'list', 'sourceforge', 'net', 'subject', 'wm', 'adv', 'direct', 'email', 'blaster', 'email', 'addresses', 'extractor', 'maillist', 'verify', 'maillist', 'manager', 'sender', 'webmake', 'talk', 'admin', 'example', 'sourceforge', 'net', 'errors', 'to', 'webmake', 'talk', 'admin', 'example', 'sourceforge', 'net', 'x', 'beenthere', 'webmake', 'talk', 'example', 'sourceforge', 'net', 'x', 'mailman', 'version', 'sf', 'net', 'precedence', 'bulk', 'list', 'help', 'mailto', 'webmake', 'talk', 'request', 'example', 'sourceforge', 'net', 'subject', 'help', 'list', 'post', 'mailto', 'webmake', 'talk', 'example', 'sourceforge', 'net', 'list', 'subscribe', 'https', 'example', 'sourceforge', 'net', 'lists', 'listinfo', 'webmake', 'talk', 'mailto', 'webmake', 'talk', 'request', 'lists', 'sourceforge', 'net', 'subject', 'subscribe', 'list', 'id', 'discussion', 'of', 'webmake', 'webmake', 'talk', 'example', 'sourceforge', 'net', 'list', 'unsubscribe', 'https', 'example', 'sourceforge', 'net', 'lists', 'listinfo', 'webmake', 'talk', 'mailto', 'webmake', 'talk', 'request', 'lists', 'sourceforge', 'net', 'subject', 'unsubscribe', 'list', 'archive', 'http', 'www', 'geocrawler', 'com', 'redir', 'sf', 'php', 'list', 'webmake', 'talk', 'x', 'original', 'date', 'sun', 'jul', 'date', 'sun', 'jul', 'content', 'type', 'text', 'html', 'charset', 'us', 'ascii', 'content', 'transfer', 'encoding', 'quoted', 'printable', 'cbody', 'bgcolor', 'd', 'ffffff', 'e', 'cdiv', 'e', 'cfont', 'size', 'd', 'e', 'cdiv', 'e', 'cfont', 'face', 'darial', 'e', 'nbsp', 'b', 'c', 'ffont', 'e', 'c', 'fdiv', 'e', 'cdiv', 'e', 'nbsp', 'b', 'c', 'fdiv', 'e', 'cdiv', 'e', 'cstrong', 'e', 'cfont', 'color', 'd', 'ff', 'face', 'darial', 'size', 'd', 'edirect', 'email', 'blaster', 'c', 'ffont', 'e', 'c', 'fstrong', 'e', 'c', 'fdiv', 'e', 'cfont', 'size', 'd', 'e', 'cp', 'e', 'cfont', 'face', 'darial', 'e', 'cb', 'e', 'cfont', 'color', 'd', 'e', 'ci', 'ethe', 'program', 'will', 'send', 'mail', 'at', 'the', 'rate', 'of', 'over', 'c', 'e', 'mails', 'per', 'minute', 'e', 'nbsp', 'b', 'c', 'fi', 'e', 'c', 'ffont', 'e', 'cbr', 'elegal', 'and', 'fast', 'sending', 'bulk', 'emails', 'nbsp', 'b', 'cbr', 'e', 'cfont', 'color', 'd', 'e', 'ci', 'ebuilt', 'in', 'smtp', 'server', 'nbsp', 'b', 'c', 'fi', 'e', 'c', 'ffont', 'e', 'cbr', 'ehave', 'return', 'path', 'nbsp', 'b', 'cbr', 'ecan', 'check', 'mail', 'address', 'nbsp', 'b', 'cbr', 'e', 'cfont', 'color', 'd', 'e', 'ci', 'emake', 'error', 'send', 'address', 'list', 'remove', 'or', 'send', 'again', 'nbsp', 'b', 'c', 'fi', 'e', 'c', 'ffont', 'e', 'cbr', 'esupport', 'multi', 'threads', 'e', 'nbsp', 'b', 'cbr', 'esupport', 'multi', 'smtp', 'servers', 'e', 'nbsp', 'b', 'cbr', 'emanages', 'your', 'opt', 'in', 'e', 'mail', 'lists', 'nbsp', 'b', 'cbr', 'eoffers', 'an', 'easy', 'to', 'use', 'interface', 'nbsp', 'b', 'cbr', 'eeasy', 'to', 'configure', 'and', 'use', 'nbsp', 'b', 'c', 'fb', 'e', 'c', 'ffont', 'e', 'c', 'fp', 'e', 'cp', 'e', 'cfont', 'face', 'darial', 'e', 'ca', 'href', 'd', 'http', 'a', 'f', 'fwww', 'ewldinfo', 'ecom', 'fbj', 'fdownload', 'fedeb', 'fset', 'ezip', 'e', 'cstrong', 'edownload', 'now', 'c', 'fstrong', 'e', 'c', 'fa', 'e', 'c', 'ffont', 'e', 'c', 'fp', 'e', 'cp', 'e', 'cstrong', 'e', 'cfont', 'color', 'd', 'ff', 'face', 'darial', 'size', 'd', 'emaillist', 'verify', 'c', 'ffont', 'e', 'c', 'fstrong', 'e', 'c', 'fp', 'e', 'cp', 'e', 'cfont', 'face', 'darial', 'emaillist', 'verify', 'is', 'intended', 'for', 'e', 'mail', 'addresses', 'and', 'mail', 'lists', 'verifying', 'e', 'the', 'main', 'task', 'is', 'to', 'determine', 'which', 'of', 'addresses', 'in', 'the', 'mail', 'list', 'are', 'dead', 'e', 'the', 'program', 'is', 'oriented', 'c', 'basically', 'c', 'on', 'programmers', 'which', 'have', 'their', 'own', 'mail', 'lists', 'to', 'inform', 'their', 'users', 'about', 'new', 'versions', 'of', 'their', 'programs', 'e', 'c', 'ffont', 'e', 'c', 'fp', 'e', 'cp', 'e', 'cfont', 'face', 'darial', 'ethe', 'program', 'works', 'on', 'the', 'same', 'algorithm', 'as', 'isp', 'mail', 'systems', 'do', 'e', 'mail', 'servers', 'addresses', 'for', 'specified', 'address', 'are', 'extracted', 'from', 'dns', 'e', 'the', 'program', 'tries', 'to', 'connect', 'with', 'found', 'smtp', 'servers', 'and', 'simulates', 'the', 'sending', 'of', 'message', 'e', 'it', 'does', 'not', 'come', 'to', 'the', 'message', 'cnobr', 'esending', 'b', 'fnobr', 'gt', 'b', 'emv', 'disconnect', 'as', 'soon', 'as', 'mail', 'server', 'informs', 'does', 'this', 'address', 'exist', 'or', 'not', 'e', 'emv', 'can', 'find', 'c', 'fnobr', 'e', 'c', 'ffont', 'e', 'c', 'fp', 'e', 'cp', 'e', 'cfont', 'face', 'darial', 'e', 'cnobr', 'e', 'nbsp', 'babout', 'of', 'dead', 'addresses', 'b', 'fnobr', 'gt', 'b', 'some', 'mail', 'systems', 'receive', 'all', 'messages', 'and', 'only', 'then', 'see', 'their', 'nbsp', 'b', 'c', 'fnobr', 'e', 'c', 'ffont', 'e', 'c', 'fp', 'e', 'cp', 'e', 'cfont', 'face', 'darial', 'e', 'cnobr', 'eaddresses', 'and', 'if', 'the', 'address', 'is', 'dead', 'send', 'the', 'message', 'back', 'with', 'remark', 'about', 'it', 'e', 'c', 'fnobr', 'e', 'c', 'ffont', 'e', 'c', 'fp', 'e', 'cnobr', 'e', 'cp', 'e', 'ca', 'href', 'd', 'http', 'a', 'f', 'fwww', 'ewldinfo', 'ecom', 'fbj', 'fdownload', 'fbemv', 'fset', 'ezip', 'e', 'cstrong', 'e', 'cfont', 'face', 'darial', 'size', 'd', 'edownload', 'now', 'c', 'ffont', 'e', 'c', 'fstrong', 'e', 'c', 'fa', 'e', 'c', 'fp', 'e', 'cp', 'e', 'cstrong', 'e', 'cfont', 'color', 'd', 'ff', 'face', 'darial', 'size', 'd', 'eexpress', 'email', 'blaster', 'nbsp', 'b', 'c', 'ffont', 'e', 'c', 'fstrong', 'e', 'c', 'fp', 'e', 'cp', 'e', 'cfont', 'face', 'darial', 'eexpress', 'email', 'blaster', 'nbsp', 'b', 'is', 'a', 'very', 'fast', 'c', 'powerful', 'yet', 'simple', 'to', 'use', 'email', 'sender', 'e', 'utilizing', 'multiple', 'threads', 'fconnections', 'c', 'ffont', 'e', 'c', 'fp', 'e', 'cp', 'e', 'cfont', 'face', 'darial', 'e', 'nbsp', 'band', 'multiple', 'smtp', 'servers', 'your', 'emails', 'will', 'be', 'sent', 'out', 'fast', 'and', 'easily', 'e', 'there', 'are', 'user', 'information', 'c', 'attach', 'files', 'c', 'nbsp', 'b', 'c', 'ffont', 'e', 'c', 'fp', 'e', 'cp', 'e', 'cfont', 'face', 'darial', 'eaddress', 'and', 'mail', 'logs', 'four', 'tabbed', 'area', 'for', 'the', 'e', 'mails', 'details', 'for', 'sending', 'e', 'about', 'smtp', 'servers', 'come', 'with', 'the', 'nbsp', 'b', 'c', 'ffont', 'e', 'c', 'fp', 'e', 'cp', 'e', 'cfont', 'face', 'darial', 'edemo', 'version', 'c', 'and', 'users', 'may', 'add', 'and', 'delete', 'smtp', 'servers', 'e', 'about', 'cfont', 'color', 'd', 'e', 'cb', 'e', 'c', 'c', 'fb', 'e', 'c', 'ffont', 'e', 'e', 'mails', 'will', 'be', 'sent', 'out', 'per', 'hour', 'e', 'c', 'ffont', 'e', 'c', 'fp', 'e', 'cp', 'e', 'cstrong', 'e', 'ca', 'href', 'd', 'http', 'a', 'f', 'fwww', 'ewldinfo', 'ecom', 'fbj', 'fdownload', 'fbeeb', 'fset', 'ezip', 'e', 'cfont', 'face', 'darial', 'size', 'd', 'edownload', 'now', 'c', 'ffont', 'e', 'c', 'fa', 'e', 'c', 'fstrong', 'e', 'c', 'fp', 'e', 'cp', 'e', 'cstrong', 'e', 'cfont', 'color', 'd', 'ff', 'face', 'darial', 'size', 'd', 'eexpress', 'email', 'address', 'extractor', 'c', 'ffont', 'e', 'c', 'fstrong', 'e', 'c', 'fp', 'e', 'cfont', 'size', 'd', 'e', 'cp', 'e', 'cfont', 'color', 'd', 'size', 'd', 'ethis', 'program', 'is', 'the', 'most', 'efficient', 'c', 'easy', 'to', 'use', 'email', 'address', 'collector', 'available', 'on', 'the', 'c', 'ffont', 'e', 'c', 'fp', 'e', 'cp', 'e', 'cfont', 'face', 'darial', 'e', 'cfont', 'color', 'd', 'size', 'd', 'e', 'nbsp', 'binternet', 'c', 'ffont', 'e', 'cfont', 'color', 'd', 'size', 'd', 'ebeijing', 'express', 'email', 'address', 'extractor', 'expresseae', 'is', 'designed', 'to', 'extract', 'c', 'ffont', 'e', 'c', 'ffont', 'e', 'c', 'fp', 'e', 'cp', 'e', 'cfont', 'color', 'd', 'size', 'd', 'e', 'nbsp', 'be', 'mail', 'addresses', 'from', 'web', 'pages', 'on', 'the', 'internet', 'using', 'http', 'protocols', 'eexpresseae', 'c', 'ffont', 'e', 'c', 'fp', 'e', 'cp', 'e', 'cfont', 'color', 'd', 'size', 'd', 'e', 'nbsp', 'bsupports', 'operation', 'through', 'many', 'proxy', 'server', 'and', 'works', 'very', 'fast', 'c', 'as', 'it', 'is', 'able', 'of', 'nbsp', 'b', 'c', 'ffont', 'e', 'c', 'fp', 'e', 'cp', 'e', 'cfont', 'color', 'd', 'size', 'd', 'eloading', 'several', 'pages', 'simultaneously', 'c', 'and', 'requires', 'very', 'few', 'resources', 'e', 'c', 'ffont', 'e', 'c', 'fp', 'e', 'cp', 'e', 'cfont', 'color', 'd', 'face', 'darial', 'e', 'cfont', 'size', 'd', 'ewith', 'it', 'c', 'you', 'will', 'be', 'able', 'to', 'c', 'ffont', 'e', 'cfont', 'size', 'd', 'e', 'c', 'ffont', 'e', 'cfont', 'size', 'd', 'euse', 'targeted', 'searches', 'to', 'crawl', 'the', 'world', 'wide', 'web', 'c', 'extracting', 'nbsp', 'b', 'c', 'ffont', 'e', 'c', 'ffont', 'e', 'cp', 'e', 'cfont', 'color', 'd', 'face', 'darial', 'size', 'd', 'ethousands', 'of', 'clean', 'c', 'fresh', 'email', 'addresses', 'e', 'ably', 'email', 'address', 'extractor', 'is', 'unlike', 'other', 'nbsp', 'b', 'c', 'ffont', 'e', 'cp', 'e', 'cfont', 'color', 'd', 'face', 'darial', 'size', 'd', 'eaddress', 'collecting', 'programs', 'c', 'which', 'limit', 'you', 'to', 'one', 'or', 'two', 'search', 'engines', 'and', 'are', 'unable', 'c', 'ffont', 'e', 'cp', 'e', 'cfont', 'color', 'd', 'face', 'darial', 'size', 'd', 'e', 'nbsp', 'bto', 'do', 'auto', 'searches', 'huge', 'address', 'e', 'most', 'of', 'them', 'collect', 'a', 'high', 'percentage', 'of', 'incomplete', 'c', 'nbsp', 'b', 'c', 'ffont', 'e', 'cp', 'e', 'cfont', 'color', 'd', 'face', 'darial', 'size', 'd', 'eunusable', 'addresses', 'which', 'will', 'cause', 'you', 'serious', 'problems', 'when', 'using', 'them', 'in', 'a', 'mailing', 'e', 'nbsp', 'b', 'c', 'ffont', 'e', 'cul', 'e', 'cli', 'e', 'cfont', 'color', 'd', 'face', 'darial', 'size', 'd', 'eeasier', 'to', 'learn', 'and', 'use', 'than', 'any', 'other', 'email', 'address', 'collector', 'program', 'available', 'e', 'c', 'ffont', 'e', 'cli', 'e', 'cfont', 'color', 'd', 'face', 'darial', 'size', 'd', 'eaccesses', 'eight', 'search', 'engines', 'nbsp', 'b', 'c', 'ffont', 'e', 'cli', 'e', 'cfont', 'color', 'd', 'face', 'darial', 'size', 'd', 'eadd', 'your', 'own', 'urls', 'to', 'the', 'list', 'to', 'be', 'searched', 'c', 'ffont', 'e', 'cli', 'e', 'cfont', 'face', 'darial', 'size', 'd', 'e', 'cfont', 'color', 'd', 'esupports', 'operation', 'through', 'c', 'ffont', 'e', 'cfont', 'color', 'd', 'ff', 'ff', 'ea', 'lot', 'of', 'c', 'ffont', 'e', 'cfont', 'color', 'd', 'e', 'proxy', 'server', 'and', 'works', 'very', 'fast', 'http', 'proxy', 'c', 'ffont', 'e', 'c', 'ffont', 'e', 'cli', 'e', 'cfont', 'color', 'd', 'face', 'darial', 'size', 'd', 'eable', 'of', 'loading', 'several', 'pages', 'simultaneously', 'c', 'ffont', 'e', 'cli', 'e', 'cfont', 'color', 'd', 'face', 'darial', 'size', 'd', 'erequires', 'very', 'few', 'resources', 'c', 'ffont', 'e', 'cli', 'e', 'cfont', 'color', 'd', 'face', 'darial', 'size', 'd', 'etimeout', 'feature', 'allows', 'user', 'to', 'limit', 'the', 'amount', 'of', 'time', 'crawling', 'in', 'dead', 'sites', 'and', 'traps', 'e', 'c', 'ffont', 'e', 'cli', 'e', 'cfont', 'face', 'darial', 'size', 'd', 'e', 'cfont', 'color', 'd', 'eeasy', 'to', 'make', 'c', 'ffont', 'e', 'cfont', 'color', 'd', 'ff', 'ff', 'ehuge', 'c', 'ffont', 'e', 'cfont', 'color', 'd', 'e', 'address', 'list', 'c', 'ffont', 'e', 'c', 'ffont', 'e', 'cli', 'e', 'cfont', 'color', 'd', 'face', 'darial', 'size', 'd', 'epause', 'fcontinue', 'extraction', 'at', 'any', 'time', 'e', 'c', 'ffont', 'e', 'cli', 'e', 'cfont', 'color', 'd', 'face', 'darial', 'size', 'd', 'eauto', 'connection', 'to', 'the', 'internet', 'c', 'ffont', 'e', 'c', 'fli', 'e', 'c', 'ful', 'e', 'cdiv', 'e', 'cstrong', 'e', 'ca', 'href', 'd', 'http', 'a', 'f', 'fwww', 'ewldinfo', 'ecom', 'fbj', 'fdownload', 'feeae', 'fset', 'ezip', 'e', 'cfont', 'color', 'd', 'face', 'darial', 'size', 'd', 'edownload', 'now', 'c', 'ffont', 'e', 'c', 'fa', 'e', 'c', 'fstrong', 'e', 'c', 'fdiv', 'e', 'cdiv', 'e', 'cstrong', 'e', 'cfont', 'color', 'd', 'ff', 'face', 'darial', 'eexpress', 'email', 'address', 'downloader', 'c', 'ffont', 'e', 'c', 'fstrong', 'e', 'c', 'fdiv', 'e', 'cul', 'e', 'cli', 'e', 'cfont', 'face', 'darial', 'e', 'cstrong', 'e', 'cfont', 'color', 'd', 'size', 'd', 'eexpressead', 'nbsp', 'b', 'c', 'ffont', 'e', 'cfont', 'color', 'd', 'size', 'd', 'eis', 'a', 'bit', 'windows', 'program', 'for', 'e', 'mail', 'marketing', 'e', 'it', 'is', 'intended', 'for', 'easy', 'and', 'convenient', 'c', 'ffont', 'e', 'c', 'fstrong', 'e', 'c', 'ffont', 'e', 'cli', 'e', 'cfont', 'face', 'darial', 'e', 'cstrong', 'e', 'cfont', 'color', 'd', 'size', 'd', 'e', 'nbsp', 'bsearch', 'large', 'e', 'mail', 'address', 'lists', 'from', 'mail', 'servers', 'e', 'the', 'program', 'can', 'be', 'operated', 'on', 'nbsp', 'b', 'c', 'ffont', 'e', 'c', 'fstrong', 'e', 'c', 'ffont', 'e', 'cli', 'e', 'cfont', 'face', 'darial', 'e', 'cstrong', 'e', 'cfont', 'color', 'd', 'size', 'd', 'ewindows', 'f', 'fme', 'f', 'and', 'nt', 'e', 'c', 'ffont', 'e', 'c', 'fstrong', 'e', 'c', 'ffont', 'e', 'cli', 'e', 'cfont', 'face', 'darial', 'e', 'cstrong', 'e', 'cfont', 'color', 'd', 'size', 'd', 'eexpressead', 'nbsp', 'b', 'c', 'ffont', 'e', 'cfont', 'color', 'd', 'size', 'd', 'esupport', 'multi', 'threads', 'up', 'to', 'connections', 'e', 'c', 'ffont', 'e', 'c', 'fstrong', 'e', 'c', 'ffont', 'e', 'cli', 'e', 'cfont', 'face', 'darial', 'e', 'cstrong', 'e', 'cfont', 'color', 'd', 'size', 'd', 'eexpressead', 'nbsp', 'b', 'c', 'ffont', 'e', 'cfont', 'color', 'd', 'size', 'd', 'ehas', 'the', 'ability', 'nbsp', 'b', 'to', 'reconnect', 'to', 'the', 'mail', 'server', 'if', 'the', 'server', 'has', 'disconnected', 'and', 'nbsp', 'b', 'c', 'ffont', 'e', 'c', 'fstrong', 'e', 'c', 'ffont', 'e', 'cli', 'e', 'cfont', 'face', 'darial', 'e', 'cstrong', 'e', 'cfont', 'color', 'd', 'size', 'd', 'econtinue', 'the', 'searching', 'at', 'the', 'point', 'where', 'it', 'has', 'been', 'interrupted', 'e', 'c', 'ffont', 'e', 'c', 'fstrong', 'e', 'c', 'ffont', 'e', 'cli', 'e', 'cfont', 'face', 'darial', 'e', 'cstrong', 'e', 'cfont', 'color', 'd', 'size', 'd', 'eexpressead', 'nbsp', 'b', 'c', 'ffont', 'e', 'cfont', 'color', 'd', 'size', 'd', 'ehas', 'an', 'ergonomic', 'interface', 'that', 'is', 'easy', 'to', 'set', 'up', 'and', 'simple', 'to', 'use', 'e', 'c', 'ffont', 'e', 'c', 'fstrong', 'e', 'c', 'ffont', 'e', 'c', 'fli', 'e', 'c', 'ful', 'e', 'cdiv', 'e', 'cfont', 'face', 'darial', 'e', 'nbsp', 'b', 'c', 'ffont', 'e', 'c', 'fdiv', 'e', 'cp', 'e', 'cfont', 'face', 'darial', 'e', 'cstrong', 'e', 'cfont', 'color', 'd', 'face', 'darial', 'size', 'd', 'efeatures', 'a', 'c', 'ffont', 'e', 'c', 'fstrong', 'e', 'c', 'ffont', 'e', 'cul', 'type', 'ddisc', 'e', 'cli', 'e', 'cfont', 'face', 'darial', 'e', 'cstrong', 'e', 'cfont', 'face', 'darial', 'size', 'd', 'esupport', 'multi', 'threads', 'e', 'c', 'ffont', 'e', 'c', 'fstrong', 'e', 'c', 'ffont', 'e', 'cli', 'e', 'cfont', 'face', 'darial', 'e', 'cstrong', 'e', 'cfont', 'face', 'darial', 'size', 'd', 'eauto', 'get', 'smtp', 'server', 'address', 'csupport', 'multi', 'smtp', 'servers', 'e', 'c', 'ffont', 'e', 'c', 'fstrong', 'e', 'c', 'ffont', 'e', 'cli', 'e', 'cfont', 'face', 'darial', 'e', 'cstrong', 'e', 'cfont', 'face', 'darial', 'size', 'd', 'eauto', 'save', 'nbsp', 'b', 'e', 'mail', 'lists', 'c', 'ffont', 'e', 'c', 'fstrong', 'e', 'c', 'ffont', 'e', 'cli', 'e', 'cfont', 'face', 'darial', 'e', 'cstrong', 'e', 'cfont', 'face', 'darial', 'size', 'd', 'eoffers', 'an', 'easy', 'to', 'use', 'interface', 'c', 'ffont', 'e', 'c', 'fstrong', 'e', 'c', 'ffont', 'e', 'c', 'fli', 'e', 'c', 'ful', 'e', 'cdiv', 'e', 'cstrong', 'e', 'ca', 'href', 'd', 'http', 'a', 'f', 'fwww', 'ewldinfo', 'ecom', 'fbj', 'fdownload', 'feead', 'fset', 'ezip', 'e', 'cfont', 'color', 'd', 'face', 'darial', 'size', 'd', 'edownload', 'now', 'c', 'ffont', 'e', 'c', 'fa', 'e', 'c', 'fstrong', 'e', 'c', 'fdiv', 'e', 'cdiv', 'e', 'cfont', 'face', 'darial', 'e', 'nbsp', 'b', 'c', 'ffont', 'e', 'c', 'fdiv', 'e', 'cdiv', 'e', 'cstrong', 'e', 'cfont', 'color', 'd', 'ff', 'face', 'darial', 'eexpress', 'maillist', 'manager', 'c', 'ffont', 'e', 'c', 'fstrong', 'e', 'c', 'fdiv', 'e', 'cdiv', 'e', 'cfont', 'face', 'darial', 'e', 'nbsp', 'b', 'c', 'ffont', 'e', 'c', 'fdiv', 'e', 'cdiv', 'e', 'cfont', 'size', 'd', 'e', 'cp', 'e', 'cfont', 'face', 'darial', 'e', 'cfont', 'color', 'dblack', 'size', 'd', 'ethis', 'program', 'was', 'designed', 'to', 'be', 'a', 'complement', 'to', 'the', 'c', 'ffont', 'e', 'cfont', 'color', 'd', 'size', 'd', 'edirect', 'email', 'blaster', 'nbsp', 'b', 'c', 'ffont', 'e', 'cfont', 'color', 'dblack', 'size', 'd', 'eand', 'c', 'ffont', 'e', 'cfont', 'color', 'd', 'size', 'd', 'eemail', 'blaster', 'c', 'ffont', 'e', 'c', 'ffont', 'e', 'c', 'fp', 'e', 'cp', 'e', 'cfont', 'face', 'darial', 'e', 'cfont', 'color', 'dblack', 'size', 'd', 'esuite', 'of', 'bulk', 'email', 'software', 'programs', 'e', 'its', 'purpose', 'is', 'to', 'organize', 'your', 'email', 'lists', 'in', 'order', 'to', 'be', 'more', 'nbsp', 'b', 'c', 'ffont', 'e', 'c', 'ffont', 'e', 'c', 'fp', 'e', 'cp', 'e', 'cfont', 'face', 'darial', 'e', 'cfont', 'color', 'dblack', 'size', 'd', 'eeffective', 'with', 'your', 'email', 'marketing', 'campaign', 'e', 'some', 'of', 'its', 'features', 'include', 'a', 'c', 'ffont', 'e', 'c', 'ffont', 'e', 'c', 'fp', 'e', 'cp', 'e', 'cb', 'e', 'cfont', 'color', 'd', 'face', 'darial', 'e', 'cfont', 'size', 'd', 'e', 'bcombine', 'several', 'lists', 'into', 'one', 'file', 'e', 'c', 'ffont', 'e', 'cbr', 'e', 'cfont', 'size', 'd', 'e', 'bsplit', 'up', 'larger', 'lists', 'to', 'make', 'them', 'more', 'manageable', 'e', 'c', 'ffont', 'e', 'cbr', 'e', 'cfont', 'size', 'd', 'e', 'bremove', 'addresses', 'from', 'file', 'e', 'c', 'ffont', 'e', 'cbr', 'e', 'cfont', 'size', 'd', 'e', 'bmanual', 'editing', 'c', 'adding', 'c', 'and', 'deleting', 'of', 'addresses', 'e', 'c', 'ffont', 'e', 'cbr', 'e', 'cfont', 'size', 'd', 'e', 'bability', 'to', 'auto', 'clean', 'lists', 'c', 'that', 'is', 'c', 'remove', 'any', 'duplicate', 'or', 'unwanted', 'addresses', 'e', 'c', 'ffont', 'e', 'cbr', 'e', 'cfont', 'size', 'd', 'e', 'bmaintain', 'all', 'your', 'address', 'lists', 'within', 'the', 'program', 'so', 'you', 'no', 'nbsp', 'b', 'longer', 'need', 'to', 'keep', 'all', 'your', 'c', 'ffont', 'e', 'c', 'ffont', 'e', 'c', 'fb', 'e', 'c', 'fp', 'e', 'cp', 'e', 'cb', 'e', 'cfont', 'color', 'd', 'face', 'darial', 'size', 'd', 'e', 'nbsp', 'blists', 'saved', 'as', 'separate', 'text', 'files', 'e', 'c', 'ffont', 'e', 'c', 'fb', 'e', 'c', 'fp', 'e', 'cp', 'e', 'cstrong', 'e', 'ca', 'href', 'd', 'http', 'a', 'f', 'fwww', 'ewldinfo', 'ecom', 'fbj', 'fdownload', 'fbemm', 'fset', 'ezip', 'e', 'cfont', 'color', 'd', 'face', 'darial', 'size', 'd', 'edownload', 'now', 'c', 'ffont', 'e', 'c', 'fa', 'e', 'c', 'fstrong', 'e', 'c', 'fp', 'e', 'cp', 'e', 'cfont', 'face', 'darial', 'e', 'nbsp', 'b', 'c', 'ffont', 'e', 'c', 'fp', 'e', 'cp', 'e', 'nbsp', 'b', 'c', 'fp', 'e', 'cdiv', 'e', 'cfont', 'face', 'darial', 'eif', 'you', 'want', 'to', 'remove', 'your', 'email', 'c', 'please', 'send', 'email', 'to', 'ca', 'href', 'd', 'mailto', 'atargetemailremoval', 'btamail', 'enet', 'ecn', 'etargetemailremoval', 'btamail', 'enet', 'ecn', 'c', 'fa', 'e', 'c', 'ffont', 'e', 'c', 'fdiv', 'e', 'cdiv', 'e', 'cfont', 'face', 'darial', 'e', 'nbsp', 'b', 'c', 'ffont', 'e', 'c', 'fdiv', 'e', 'cdiv', 'e', 'cfont', 'face', 'darial', 'e', 'nbsp', 'b', 'c', 'ffont', 'e', 'c', 'fdiv', 'e', 'cdiv', 'e', 'nbsp', 'b', 'c', 'fdiv', 'e', 'c', 'ffont', 'e', 'c', 'fdiv', 'e', 'c', 'ffont', 'e', 'c', 'fnobr', 'e', 'c', 'ffont', 'e', 'c', 'ffont', 'e', 'c', 'fdiv', 'e', 'this', 'sf', 'net', 'email', 'is', 'sponsored', 'by', 'thinkgeek', 'welcome', 'to', 'geek', 'heaven', 'http', 'thinkgeek', 'com', 'sf', 'webmake', 'talk', 'mailing', 'list', 'webmake', 'talk', 'lists', 'sourceforge', 'net', 'https', 'lists', 'sourceforge', 'net', 'lists', 'listinfo', 'webmake', 'talk'])].\nReshape your data either using array.reshape(-1, 1) if your data has a single feature or array.reshape(1, -1) if it contains a single sample."
     ]
    }
   ],
   "source": [
    "from sklearn.metrics import accuracy_score\n",
    "# Fit the pipeline on the training data\n",
    "pipeline.fit(X_train, y_train)\n",
    "print(X_train.shape, y_train.shape)\n",
    "\n",
    "# Predict using the pipeline\n",
    "y_pred = pipeline.predict(X_test)\n",
    "acc = accuracy_score(y_test, y_pred)\n",
    "print(\"Accuracy: \", acc)"
   ]
  },
  {
   "cell_type": "code",
   "execution_count": 52,
   "id": "0b4925fc",
   "metadata": {},
   "outputs": [
    {
     "name": "stdout",
     "output_type": "stream",
     "text": [
      "<class 'pandas.core.series.Series'>\n",
      "False\n",
      "<class 'pandas.core.series.Series'>\n",
      "False\n"
     ]
    }
   ],
   "source": [
    "from sklearn.feature_extraction.text import TfidfVectorizer,CountVectorizer\n",
    "\n",
    "# Split the data into train and test sets\n",
    "X_train, X_test, y_train, y_test = train_test_split(df['text'], df['label'], test_size=0.2, random_state=42)\n",
    "\n",
    "# Define the pipeline\n",
    "pipeline = Pipeline([\n",
    "    ('clean_text', CleanTextTransformer(text_split=False)),\n",
    "    ('vectorizer', TfidfVectorizer()),\n",
    "    ('classifier', LogisticRegression())\n",
    "])\n",
    "\n",
    "# Train the pipeline\n",
    "pipeline.fit(X_train, y_train)\n",
    "\n",
    "# Make predictions\n",
    "y_pred = pipeline.predict(X_test)"
   ]
  },
  {
   "cell_type": "code",
   "execution_count": 53,
   "id": "ab9fc22a",
   "metadata": {},
   "outputs": [
    {
     "name": "stdout",
     "output_type": "stream",
     "text": [
      "0.9834224598930481\n"
     ]
    }
   ],
   "source": [
    "from sklearn.metrics import accuracy_score\n",
    "acc = accuracy_score(y_test, y_pred)\n",
    "print(acc)"
   ]
  },
  {
   "cell_type": "code",
   "execution_count": null,
   "id": "72228914",
   "metadata": {},
   "outputs": [],
   "source": [
    "# Fit the pipeline on the training data\n",
    "pipeline.fit(X_train, y_train)\n",
    "print(X_train.shape, y_train.shape)\n",
    "\n",
    "# Predict using the pipeline\n",
    "y_pred = pipeline.predict(X_test)\n",
    "acc = accuracy_score(y_test, y_pred)\n",
    "print(\"Accuracy: \", acc)"
   ]
  },
  {
   "cell_type": "code",
   "execution_count": null,
   "id": "e4740ebc",
   "metadata": {},
   "outputs": [],
   "source": []
  },
  {
   "cell_type": "code",
   "execution_count": null,
   "id": "2c6e3d98",
   "metadata": {},
   "outputs": [],
   "source": []
  },
  {
   "cell_type": "code",
   "execution_count": null,
   "id": "3492d187",
   "metadata": {},
   "outputs": [],
   "source": []
  },
  {
   "cell_type": "code",
   "execution_count": 38,
   "id": "2d8b9421",
   "metadata": {},
   "outputs": [
    {
     "name": "stdout",
     "output_type": "stream",
     "text": [
      "<class 'pandas.core.series.Series'>\n"
     ]
    }
   ],
   "source": [
    "from sklearn.feature_extraction.text import TfidfVectorizer,CountVectorizer\n",
    "\n",
    "# Splitting the data\n",
    "X = df['text']\n",
    "y = df['label']\n",
    "\n",
    "# Instantiate the custom transformer and vectorizer\n",
    "cleaner = CleanTextTransformer(text_split=True)\n",
    "countvectorizer = CountVectorizer(analyzer= 'word', stop_words='english')\n",
    "tfidfvectorizer = TfidfVectorizer(analyzer='word',stop_words= 'english')\n",
    "\n",
    "# Apply the custom transformer\n",
    "X_cleaned = cleaner.fit_transform(X)"
   ]
  },
  {
   "cell_type": "code",
   "execution_count": 39,
   "id": "5bf061ef",
   "metadata": {},
   "outputs": [],
   "source": [
    "# Ensure the input to TfidfVectorizer is a 1D array of strings\n",
    "X_vectorized = countvectorizer.fit_transform(X_cleaned)\n",
    "\n",
    "# Train-test split\n",
    "X_train, X_test, y_train, y_test = train_test_split(X_vectorized, y, test_size=0.33, random_state=42)\n"
   ]
  },
  {
   "cell_type": "code",
   "execution_count": 40,
   "id": "8a968f12",
   "metadata": {},
   "outputs": [
    {
     "ename": "NameError",
     "evalue": "name 'KNeighborsClassifier' is not defined",
     "output_type": "error",
     "traceback": [
      "\u001b[1;31m---------------------------------------------------------------------------\u001b[0m",
      "\u001b[1;31mNameError\u001b[0m                                 Traceback (most recent call last)",
      "\u001b[1;32m~\\AppData\\Local\\Temp/ipykernel_18132/1752721738.py\u001b[0m in \u001b[0;36m<module>\u001b[1;34m\u001b[0m\n\u001b[0;32m      1\u001b[0m \u001b[1;31m# Fit a KNeighborsClassifier as an example\u001b[0m\u001b[1;33m\u001b[0m\u001b[1;33m\u001b[0m\u001b[1;33m\u001b[0m\u001b[0m\n\u001b[1;32m----> 2\u001b[1;33m \u001b[0mmodel\u001b[0m \u001b[1;33m=\u001b[0m \u001b[0mKNeighborsClassifier\u001b[0m\u001b[1;33m(\u001b[0m\u001b[1;33m)\u001b[0m\u001b[1;33m\u001b[0m\u001b[1;33m\u001b[0m\u001b[0m\n\u001b[0m\u001b[0;32m      3\u001b[0m \u001b[0mmodel\u001b[0m\u001b[1;33m.\u001b[0m\u001b[0mfit\u001b[0m\u001b[1;33m(\u001b[0m\u001b[0mX_train\u001b[0m\u001b[1;33m,\u001b[0m \u001b[0my_train\u001b[0m\u001b[1;33m)\u001b[0m\u001b[1;33m\u001b[0m\u001b[1;33m\u001b[0m\u001b[0m\n\u001b[0;32m      4\u001b[0m \u001b[0my_pred\u001b[0m \u001b[1;33m=\u001b[0m \u001b[0mmodel\u001b[0m\u001b[1;33m.\u001b[0m\u001b[0mpredict\u001b[0m\u001b[1;33m(\u001b[0m\u001b[0mX_test\u001b[0m\u001b[1;33m)\u001b[0m\u001b[1;33m\u001b[0m\u001b[1;33m\u001b[0m\u001b[0m\n",
      "\u001b[1;31mNameError\u001b[0m: name 'KNeighborsClassifier' is not defined"
     ]
    }
   ],
   "source": [
    "# Fit a KNeighborsClassifier as an example\n",
    "model = KNeighborsClassifier()\n",
    "model.fit(X_train, y_train)\n",
    "y_pred = model.predict(X_test)"
   ]
  },
  {
   "cell_type": "code",
   "execution_count": null,
   "id": "2f42b88f",
   "metadata": {},
   "outputs": [],
   "source": [
    "from sklearn.metrics import accuracy_score\n",
    "acc = accuracy_score(y_test, y_pred)\n",
    "print(acc)"
   ]
  }
 ],
 "metadata": {
  "kernelspec": {
   "display_name": "Python 3 (ipykernel)",
   "language": "python",
   "name": "python3"
  },
  "language_info": {
   "codemirror_mode": {
    "name": "ipython",
    "version": 3
   },
   "file_extension": ".py",
   "mimetype": "text/x-python",
   "name": "python",
   "nbconvert_exporter": "python",
   "pygments_lexer": "ipython3",
   "version": "3.8.11"
  }
 },
 "nbformat": 4,
 "nbformat_minor": 5
}
